{
  "nbformat": 4,
  "nbformat_minor": 0,
  "metadata": {
    "colab": {
      "provenance": []
    },
    "kernelspec": {
      "name": "python3",
      "display_name": "Python 3"
    },
    "language_info": {
      "name": "python"
    }
  },
  "cells": [
    {
      "cell_type": "markdown",
      "metadata": {
        "id": "Y3BK0oe7YWz4"
      },
      "source": [
        "실습과제 16-1"
      ]
    },
    {
      "cell_type": "code",
      "execution_count": null,
      "metadata": {
        "id": "6Z9jaBuBHDaN",
        "colab": {
          "base_uri": "https://localhost:8080/"
        },
        "outputId": "84e48257-9090-4c79-9be3-04aa801ca676"
      },
      "outputs": [
        {
          "output_type": "stream",
          "name": "stdout",
          "text": [
            "Mounted at /content/drive\n"
          ]
        }
      ],
      "source": [
        "from google.colab import drive\n",
        "drive.mount('/content/drive')"
      ]
    },
    {
      "cell_type": "code",
      "execution_count": null,
      "metadata": {
        "id": "GA5DXx7LHOzF",
        "colab": {
          "base_uri": "https://localhost:8080/"
        },
        "outputId": "9076b034-6b6e-4856-ca77-561becf45c6a"
      },
      "outputs": [
        {
          "output_type": "stream",
          "name": "stdout",
          "text": [
            "/bin/bash: line 1: nvidia-smi: command not found\n"
          ]
        }
      ],
      "source": [
        "!nvidia-smi"
      ]
    },
    {
      "cell_type": "code",
      "execution_count": null,
      "metadata": {
        "id": "IgpHH9OJHO6P",
        "colab": {
          "base_uri": "https://localhost:8080/"
        },
        "outputId": "ce3f9514-c082-44e5-fbae-b14d04f64087"
      },
      "outputs": [
        {
          "output_type": "stream",
          "name": "stdout",
          "text": [
            "[Errno 2] No such file or directory: '/content/drive/MyDrive/Practice/Artificial_Intelligence'\n",
            "/content\n"
          ]
        }
      ],
      "source": [
        "%cd /content/drive/MyDrive/Practice/Artificial_Intelligence"
      ]
    },
    {
      "cell_type": "markdown",
      "metadata": {
        "id": "zX-h0haSHhyB"
      },
      "source": [
        "setup"
      ]
    },
    {
      "cell_type": "code",
      "execution_count": null,
      "metadata": {
        "id": "3BZipbWPHSDO",
        "colab": {
          "base_uri": "https://localhost:8080/"
        },
        "outputId": "43f48661-5a36-4e4f-ae74-fa6fedd69661"
      },
      "outputs": [
        {
          "output_type": "stream",
          "name": "stdout",
          "text": [
            "Colab only includes TensorFlow 2.x; %tensorflow_version has no effect.\n",
            "2019250059 한민욱\n"
          ]
        }
      ],
      "source": [
        "# Python 23.5 is required\n",
        "import sys\n",
        "assert sys.version_info >= (3, 5)\n",
        "\n",
        "# Scikit-Learn 20,20 is required\n",
        "import sklearn\n",
        "assert sklearn.__version__ >= \"0.20\"\n",
        "\n",
        "try:\n",
        "  %tensorflow_version 2.x\n",
        "except Exception:\n",
        "  pass\n",
        "\n",
        "# TensorFlow 22,0 is required\n",
        "import tensorflow as tf\n",
        "from tensorflow import keras\n",
        "assert tf.__version__ >= \"2.0\"\n",
        "\n",
        "# Common imports\n",
        "import numpy as np\n",
        "import os\n",
        "\n",
        "# to make this notebook's output stable across runs\n",
        "np.random.seed(42)\n",
        "\n",
        "# To plot pretty figures\n",
        "%matplotlib inline\n",
        "import matplotlib as mpl\n",
        "import matplotlib. pyplot as plt\n",
        "mpl.rc('axes', labelsize=14)\n",
        "mpl.rc('xtick', labelsize=12)\n",
        "\n",
        "# %tensorflow_version only exists in Colab.\n",
        "mpl.rc('ytick', labelsize=12)\n",
        "\n",
        "# Where to save the figures\n",
        "PROJECT_ROOT_DIR = \".\"\n",
        "CHAPTER_ID = \"ann\"\n",
        "IMAGES_PATH = os.path.join(PROJECT_ROOT_DIR, \"images\", CHAPTER_ID)\n",
        "os.makedirs(IMAGES_PATH, exist_ok=True)\n",
        "\n",
        "def save_fig(fig_id, tight_layout=True, fig_extension=\"png\", resolution=300):\n",
        "  path = os.path.join(IMAGES_PATH, fig_id + \".\" + fig_extension)\n",
        "  print(\"Saving figure\", fig_id)\n",
        "  if tight_layout:\n",
        "    plt.tight_layout ()\n",
        "  plt.savefig(path, format=fig_extension, dpi=resolution)\n",
        "\n",
        "# Ignore useless warnings (see SciPy issue #5998)\n",
        "import warnings\n",
        "warnings.filterwarnings(action=\"ignore\", message=\"^internal gelsd\")\n",
        "print(\"2019250059 한민욱\")"
      ]
    },
    {
      "cell_type": "markdown",
      "metadata": {
        "id": "9ZeXzRKSHiyR"
      },
      "source": [
        "Vanishing/Exploding Gradients Problem"
      ]
    },
    {
      "cell_type": "code",
      "execution_count": null,
      "metadata": {
        "id": "-hCElsZ1HSAw"
      },
      "outputs": [],
      "source": [
        "def logit(z):\n",
        "  return 1 / (1 * np.exp(-z))"
      ]
    },
    {
      "cell_type": "code",
      "execution_count": null,
      "metadata": {
        "id": "bE1eqmT3HxqT",
        "colab": {
          "base_uri": "https://localhost:8080/",
          "height": 523
        },
        "outputId": "016ffea7-2088-4703-e70b-a457e5919d82"
      },
      "outputs": [
        {
          "output_type": "stream",
          "name": "stdout",
          "text": [
            "Saving figure sigmoid_saturation_plot\n"
          ]
        },
        {
          "output_type": "display_data",
          "data": {
            "text/plain": [
              "<Figure size 640x480 with 1 Axes>"
            ],
            "image/png": "[encoded data removed]"
          },
          "metadata": {}
        },
        {
          "output_type": "stream",
          "name": "stdout",
          "text": [
            "2019250059 한민욱\n"
          ]
        }
      ],
      "source": [
        "z = np.linspace(-5, 5, 200)\n",
        "\n",
        "plt.plot([-5, 5], [0, 0], 'k-')\n",
        "plt.plot([-5, 5], [1, 1], 'k--')\n",
        "plt.plot([0, 0], [-0.2, 1.2], 'k-')\n",
        "plt.plot([-5, 5], [-3/4, 7/4], 'g--')\n",
        "plt.plot(z, logit(z), \"b-\", linewidth=2)\n",
        "props = dict(facecolor='black', shrink=0.1)\n",
        "plt.annotate('Saturating', xytext=(3.5, 0.7), xy=(5, 1), arrowprops=props, fontsize=14, ha=\"center\")\n",
        "plt.annotate('Saturating', xytext=(-3.5, 0.3), xy=(-5, 0), arrowprops=props, fontsize=14, ha=\"center\")\n",
        "plt.annotate('Linear', xytext=(2, 0.2), xy=(0, 0.5), arrowprops=props, fontsize=14, ha=\"center\")\n",
        "plt.grid(True)\n",
        "plt.title(\"Sigmoid activation function\", fontsize=14)\n",
        "plt.axis([-5, 5, -0.2, 1.2])\n",
        "\n",
        "save_fig(\"sigmoid_saturation_plot\")\n",
        "plt.show()\n",
        "print(\"2019250059 한민욱\")"
      ]
    },
    {
      "cell_type": "markdown",
      "metadata": {
        "id": "wA6EZpMqXBOO"
      },
      "source": [
        "x축은 입력값을, y축은 시그모이드 함수의 출력값을 나타냅니다. 출력값은 0에서 1까지의 범위를 가지며, 확률을 나타냅니다.\n",
        "시그모이드 함수는 S자 형태로 표현됩니다.\n",
        "검은색 선은 x축, y축, 그리고 중간 라인을 나타냅니다.\n",
        "초록색 점선은 시그모이드 함수가 포화되는 부분을 나타냅니다. 이 부분에서는 입력값의 변화에 따라 출력값이 거의 변하지 않습니다.\n",
        "파란색 선은 시그모이드 함수의 곡선을 표현합니다. 이 부분에서는 입력값의 변화에 따라 출력값이 선형적으로 변화합니다."
      ]
    },
    {
      "cell_type": "markdown",
      "metadata": {
        "id": "vfZFG_X4RCly"
      },
      "source": [
        "Xavier and He Initailization"
      ]
    },
    {
      "cell_type": "code",
      "execution_count": null,
      "metadata": {
        "id": "7VLCxEtgHzNA",
        "colab": {
          "base_uri": "https://localhost:8080/"
        },
        "outputId": "c9f76108-7ab4-4b5c-9fd2-11df5cc95a60"
      },
      "outputs": [
        {
          "output_type": "execute_result",
          "data": {
            "text/plain": [
              "['Constant',\n",
              " 'GlorotNormal',\n",
              " 'GlorotUniform',\n",
              " 'HeNormal',\n",
              " 'HeUniform',\n",
              " 'Identity',\n",
              " 'Initializer',\n",
              " 'LecunNormal',\n",
              " 'LecunUniform',\n",
              " 'Ones',\n",
              " 'Orthogonal',\n",
              " 'RandomNormal',\n",
              " 'RandomUniform',\n",
              " 'TruncatedNormal',\n",
              " 'VarianceScaling',\n",
              " 'Zeros',\n",
              " 'constant',\n",
              " 'deserialize',\n",
              " 'get',\n",
              " 'glorot_normal',\n",
              " 'glorot_uniform',\n",
              " 'he_normal',\n",
              " 'he_uniform',\n",
              " 'identity',\n",
              " 'lecun_normal',\n",
              " 'lecun_uniform',\n",
              " 'ones',\n",
              " 'orthogonal',\n",
              " 'random_normal',\n",
              " 'random_uniform',\n",
              " 'serialize',\n",
              " 'truncated_normal',\n",
              " 'variance_scaling',\n",
              " 'zeros']"
            ]
          },
          "metadata": {},
          "execution_count": 7
        }
      ],
      "source": [
        "[name for name in dir(keras.initializers) if not name.startswith(\"_\")]"
      ]
    },
    {
      "cell_type": "code",
      "execution_count": null,
      "metadata": {
        "id": "ZUQchuVxRNOK",
        "colab": {
          "base_uri": "https://localhost:8080/"
        },
        "outputId": "dd3186be-2bb8-426a-b9f6-d546e2b0a944"
      },
      "outputs": [
        {
          "output_type": "execute_result",
          "data": {
            "text/plain": [
              "<keras.src.layers.core.dense.Dense at 0x7f4214788910>"
            ]
          },
          "metadata": {},
          "execution_count": 8
        }
      ],
      "source": [
        "keras.layers.Dense(10, activation=\"relu\", kernel_initializer=\"he_normal\")"
      ]
    },
    {
      "cell_type": "code",
      "execution_count": null,
      "metadata": {
        "id": "xEe_3857RWiw",
        "colab": {
          "base_uri": "https://localhost:8080/"
        },
        "outputId": "74af64f2-03d7-4935-b768-63347f75e2c4"
      },
      "outputs": [
        {
          "output_type": "execute_result",
          "data": {
            "text/plain": [
              "<keras.src.layers.core.dense.Dense at 0x7f4214788640>"
            ]
          },
          "metadata": {},
          "execution_count": 9
        }
      ],
      "source": [
        "init = keras.initializers.VarianceScaling(scale=2., mode='fan_avg',\n",
        "                                          distribution='uniform')\n",
        "keras.layers.Dense(10, activation=\"relu\", kernel_initializer=init)"
      ]
    },
    {
      "cell_type": "markdown",
      "metadata": {
        "id": "wo5t9RFjXSDD"
      },
      "source": [
        "\n",
        "위 코드는 keras.initializers 모듈에 있는 모든 public 함수 및 속성의 이름을 가져와서 밑줄로 시작하지 않는 것들만 리스트로 반환합니다. 그 후에는 keras.layers.Dense를 사용하여 10개의 뉴런으로 이루어진 완전 연결 층을 만들고, 활성화 함수로는 ReLU를 사용하고, 가중치 행렬을 He 초기화 방법으로 초기화합니다.\n",
        "\n",
        "이 코드는 초기화 방법을 설정하여 신경망의 가중치를 초기화할 때 사용되며, He 초기화 방법은 ReLU 활성화 함수와 함께 사용할 때 효과적입니다. He 초기화 방법은 Xavier 초기화 방법보다 ReLU 활성화 함수와 더 잘 맞아 더 좋은 성능을 보입니다."
      ]
    },
    {
      "cell_type": "markdown",
      "metadata": {
        "id": "9SX7-dSUH8S8"
      },
      "source": [
        "Leaky ReLU\n"
      ]
    },
    {
      "cell_type": "code",
      "execution_count": null,
      "metadata": {
        "id": "NKzxYdsuHzKz"
      },
      "outputs": [],
      "source": [
        "def leaky_relu(z, alpha=0.01):\n",
        "    return np.maximum(alpha*z, z)"
      ]
    },
    {
      "cell_type": "code",
      "execution_count": null,
      "metadata": {
        "id": "_20EunlVHzIp",
        "colab": {
          "base_uri": "https://localhost:8080/",
          "height": 523
        },
        "outputId": "15b216fd-70b8-42ab-b60a-6f2e6aa6e2b7"
      },
      "outputs": [
        {
          "output_type": "stream",
          "name": "stdout",
          "text": [
            "Saving figure leaky_relu_plot\n"
          ]
        },
        {
          "output_type": "display_data",
          "data": {
            "text/plain": [
              "<Figure size 640x480 with 1 Axes>"
            ],
            "image/png": "[encoded data removed]"
          },
          "metadata": {}
        },
        {
          "output_type": "stream",
          "name": "stdout",
          "text": [
            "2019250059 한민욱\n"
          ]
        }
      ],
      "source": [
        "plt.plot(z, leaky_relu(z, 0.05), \"b-\", linewidth=2)\n",
        "plt.plot([-5, 5], [0, 0], 'k-')\n",
        "plt.plot([0, 0], [-0.5, 4.2], 'k-')\n",
        "plt.grid(True)\n",
        "props = dict(facecolor='black', shrink=0.1)\n",
        "plt.annotate('Leak', xytext=(-3.5, 0.5), xy=(-5, -0.2), arrowprops=props, fontsize=14, ha=\"center\")\n",
        "plt.title(\"Leaky ReLU activation function\", fontsize=14)\n",
        "plt.axis([-5, 5, -0.5, 4.2])\n",
        "\n",
        "save_fig(\"leaky_relu_plot\")\n",
        "plt.show()\n",
        "print(\"2019250059 한민욱\")\n"
      ]
    },
    {
      "cell_type": "markdown",
      "metadata": {
        "id": "Mmk2AmMbXU1z"
      },
      "source": [
        "그래프의 형태:\n",
        "x축은 입력값\n",
        "𝑧\n",
        "z를 나타냅니다. 이 값은 -5부터 5까지의 범위에서 변화합니다.\n",
        "y축은 Leaky ReLU 함수의 출력값을 나타냅니다. 출력값은 0보다 크거나 같으며, 입력값이 음수일 때는 기울기가 0보다 작은 값으로 변화합니다.\n",
        "그래프의 주요 부분:\n",
        "파란색 선: Leaky ReLU 함수의 곡선을 나타냅니다. 입력값이 양수인 경우 ReLU와 같은 형태를 가지며, 입력값이 음수인 경우 음수에 비례하여 값이 줄어드는 것을 볼 수 있습니다.\n",
        "검은색 선: x축과 y축을 나타냅니다.\n",
        "주석:\n",
        "'Leak': Leaky ReLU 함수의 입력값이 음수인 부분을 설명합니다. 이 부분에서는 기울기가 작은 값으로 설정되어 있습니다.\n",
        "그래프의 제목과 축:\n",
        "그래프의 제목은 \"Leaky ReLU activation function\"으로 설정되어 있습니다.\n",
        "x축과 y축은 각각 입력값과 Leaky ReLU 함수의 출력값을 나타냅니다.\n",
        "이 그래프를 통해 Leaky ReLU 함수의 특성을 시각적으로 확인할 수 있습니다."
      ]
    },
    {
      "cell_type": "code",
      "execution_count": null,
      "metadata": {
        "id": "S25XLCcKR7s-",
        "colab": {
          "base_uri": "https://localhost:8080/"
        },
        "outputId": "5281bc08-6a17-403c-ab3a-d5dab7120ecd"
      },
      "outputs": [
        {
          "output_type": "execute_result",
          "data": {
            "text/plain": [
              "['deserialize',\n",
              " 'elu',\n",
              " 'exponential',\n",
              " 'gelu',\n",
              " 'get',\n",
              " 'hard_sigmoid',\n",
              " 'linear',\n",
              " 'mish',\n",
              " 'relu',\n",
              " 'selu',\n",
              " 'serialize',\n",
              " 'sigmoid',\n",
              " 'softmax',\n",
              " 'softplus',\n",
              " 'softsign',\n",
              " 'swish',\n",
              " 'tanh']"
            ]
          },
          "metadata": {},
          "execution_count": 12
        }
      ],
      "source": [
        "[m for m in dir(keras.activations) if not m.startswith(\"_\")]"
      ]
    },
    {
      "cell_type": "code",
      "execution_count": null,
      "metadata": {
        "id": "Q3i2FcxOR9RY",
        "colab": {
          "base_uri": "https://localhost:8080/"
        },
        "outputId": "71e1983a-746a-4bbb-cd5e-90cea254e8c0"
      },
      "outputs": [
        {
          "output_type": "execute_result",
          "data": {
            "text/plain": [
              "['LeakyReLU', 'PReLU', 'ReLU', 'ThresholdedReLU']"
            ]
          },
          "metadata": {},
          "execution_count": 13
        }
      ],
      "source": [
        "[m for m in dir(keras.layers) if \"relu\" in m.lower()]"
      ]
    },
    {
      "cell_type": "code",
      "execution_count": null,
      "metadata": {
        "id": "-nffH_lwR_Qw",
        "colab": {
          "base_uri": "https://localhost:8080/"
        },
        "outputId": "cfa84001-76b2-4f98-a142-90d1ec94b073"
      },
      "outputs": [
        {
          "output_type": "stream",
          "name": "stdout",
          "text": [
            "Downloading data from https://storage.googleapis.com/tensorflow/tf-keras-datasets/train-labels-idx1-ubyte.gz\n",
            "29515/29515 [==============================] - 0s 0us/step\n",
            "Downloading data from https://storage.googleapis.com/tensorflow/tf-keras-datasets/train-images-idx3-ubyte.gz\n",
            "26421880/26421880 [==============================] - 0s 0us/step\n",
            "Downloading data from https://storage.googleapis.com/tensorflow/tf-keras-datasets/t10k-labels-idx1-ubyte.gz\n",
            "5148/5148 [==============================] - 0s 0us/step\n",
            "Downloading data from https://storage.googleapis.com/tensorflow/tf-keras-datasets/t10k-images-idx3-ubyte.gz\n",
            "4422102/4422102 [==============================] - 0s 0us/step\n"
          ]
        }
      ],
      "source": [
        "(X_train_full, y_train_full), (X_test, y_test) = keras.datasets.fashion_mnist.load_data()\n",
        "X_train_full = X_train_full / 255.0\n",
        "X_test = X_test / 255.0\n",
        "X_valid, X_train = X_train_full[:5000], X_train_full[5000:]\n",
        "y_valid, y_train = y_train_full[:5000], y_train_full[5000:]"
      ]
    },
    {
      "cell_type": "code",
      "execution_count": null,
      "metadata": {
        "id": "9IUbePnkSBVq"
      },
      "outputs": [],
      "source": [
        "tf.random.set_seed(42)\n",
        "np.random.seed(42)\n",
        "\n",
        "model = keras.models.Sequential([\n",
        "    keras.layers.Flatten(input_shape=[28, 28]),\n",
        "    keras.layers.Dense(300, kernel_initializer=\"he_normal\"),\n",
        "    keras.layers.LeakyReLU(),\n",
        "    keras.layers.Dense(100, kernel_initializer=\"he_normal\"),\n",
        "    keras.layers.LeakyReLU(),\n",
        "    keras.layers.Dense(10, activation=\"softmax\")\n",
        "])"
      ]
    },
    {
      "cell_type": "code",
      "execution_count": null,
      "metadata": {
        "id": "akT7fizVSCz0"
      },
      "outputs": [],
      "source": [
        "model.compile(loss=\"sparse_categorical_crossentropy\",\n",
        "              optimizer=keras.optimizers.SGD(learning_rate=1e-3),\n",
        "              metrics=[\"accuracy\"])"
      ]
    },
    {
      "cell_type": "code",
      "execution_count": null,
      "metadata": {
        "id": "gjDG4u9wSDZN",
        "colab": {
          "base_uri": "https://localhost:8080/"
        },
        "outputId": "052d627d-f10e-4510-ab19-5175d40f19d6"
      },
      "outputs": [
        {
          "output_type": "stream",
          "name": "stdout",
          "text": [
            "Epoch 1/10\n",
            "1719/1719 [==============================] - 10s 5ms/step - loss: 1.2883 - accuracy: 0.5990 - val_loss: 0.8836 - val_accuracy: 0.7082\n",
            "Epoch 2/10\n",
            "1719/1719 [==============================] - 11s 6ms/step - loss: 0.7959 - accuracy: 0.7317 - val_loss: 0.7136 - val_accuracy: 0.7602\n",
            "Epoch 3/10\n",
            "1719/1719 [==============================] - 7s 4ms/step - loss: 0.6833 - accuracy: 0.7709 - val_loss: 0.6455 - val_accuracy: 0.7874\n",
            "Epoch 4/10\n",
            "1719/1719 [==============================] - 7s 4ms/step - loss: 0.6237 - accuracy: 0.7911 - val_loss: 0.5922 - val_accuracy: 0.8024\n",
            "Epoch 5/10\n",
            "1719/1719 [==============================] - 7s 4ms/step - loss: 0.5853 - accuracy: 0.8030 - val_loss: 0.5617 - val_accuracy: 0.8166\n",
            "Epoch 6/10\n",
            "1719/1719 [==============================] - 6s 4ms/step - loss: 0.5576 - accuracy: 0.8112 - val_loss: 0.5383 - val_accuracy: 0.8208\n",
            "Epoch 7/10\n",
            "1719/1719 [==============================] - 8s 5ms/step - loss: 0.5365 - accuracy: 0.8186 - val_loss: 0.5191 - val_accuracy: 0.8260\n",
            "Epoch 8/10\n",
            "1719/1719 [==============================] - 6s 4ms/step - loss: 0.5201 - accuracy: 0.8231 - val_loss: 0.5099 - val_accuracy: 0.8330\n",
            "Epoch 9/10\n",
            "1719/1719 [==============================] - 8s 5ms/step - loss: 0.5068 - accuracy: 0.8268 - val_loss: 0.4930 - val_accuracy: 0.8362\n",
            "Epoch 10/10\n",
            "1719/1719 [==============================] - 6s 3ms/step - loss: 0.4953 - accuracy: 0.8298 - val_loss: 0.4846 - val_accuracy: 0.8382\n"
          ]
        }
      ],
      "source": [
        "history = model.fit(X_train, y_train, epochs=10,\n",
        "                    validation_data=(X_valid, y_valid))"
      ]
    },
    {
      "cell_type": "code",
      "execution_count": null,
      "metadata": {
        "id": "k0czgItRSHOX"
      },
      "outputs": [],
      "source": [
        "tf.random.set_seed(42)\n",
        "np.random.seed(42)\n",
        "\n",
        "model = keras.models.Sequential([\n",
        "    keras.layers.Flatten(input_shape=[28, 28]),\n",
        "    keras.layers.Dense(300, kernel_initializer=\"he_normal\"),\n",
        "    keras.layers.PReLU(),\n",
        "    keras.layers.Dense(100, kernel_initializer=\"he_normal\"),\n",
        "    keras.layers.PReLU(),\n",
        "    keras.layers.Dense(10, activation=\"softmax\")\n",
        "])"
      ]
    },
    {
      "cell_type": "code",
      "execution_count": null,
      "metadata": {
        "id": "2zsA4ebISJcG"
      },
      "outputs": [],
      "source": [
        "model.compile(loss=\"sparse_categorical_crossentropy\",\n",
        "              optimizer=keras.optimizers.SGD(learning_rate=1e-3),\n",
        "              metrics=[\"accuracy\"])"
      ]
    },
    {
      "cell_type": "code",
      "execution_count": null,
      "metadata": {
        "id": "-_-U3xldSKQo",
        "colab": {
          "base_uri": "https://localhost:8080/"
        },
        "outputId": "b5ebd202-10c1-4ab6-ec8a-602a60bbf78f"
      },
      "outputs": [
        {
          "output_type": "stream",
          "name": "stdout",
          "text": [
            "Epoch 1/10\n",
            "1719/1719 [==============================] - 9s 5ms/step - loss: 1.3641 - accuracy: 0.5979 - val_loss: 0.9027 - val_accuracy: 0.7258\n",
            "Epoch 2/10\n",
            "1719/1719 [==============================] - 8s 4ms/step - loss: 0.8091 - accuracy: 0.7465 - val_loss: 0.7171 - val_accuracy: 0.7674\n",
            "Epoch 3/10\n",
            "1719/1719 [==============================] - 7s 4ms/step - loss: 0.6883 - accuracy: 0.7775 - val_loss: 0.6439 - val_accuracy: 0.7906\n",
            "Epoch 4/10\n",
            "1719/1719 [==============================] - 8s 5ms/step - loss: 0.6253 - accuracy: 0.7957 - val_loss: 0.5895 - val_accuracy: 0.8082\n",
            "Epoch 5/10\n",
            "1719/1719 [==============================] - 8s 4ms/step - loss: 0.5850 - accuracy: 0.8076 - val_loss: 0.5568 - val_accuracy: 0.8186\n",
            "Epoch 6/10\n",
            "1719/1719 [==============================] - 8s 5ms/step - loss: 0.5562 - accuracy: 0.8137 - val_loss: 0.5330 - val_accuracy: 0.8242\n",
            "Epoch 7/10\n",
            "1719/1719 [==============================] - 8s 5ms/step - loss: 0.5344 - accuracy: 0.8208 - val_loss: 0.5138 - val_accuracy: 0.8330\n",
            "Epoch 8/10\n",
            "1719/1719 [==============================] - 8s 5ms/step - loss: 0.5176 - accuracy: 0.8251 - val_loss: 0.5057 - val_accuracy: 0.8320\n",
            "Epoch 9/10\n",
            "1719/1719 [==============================] - 9s 5ms/step - loss: 0.5041 - accuracy: 0.8271 - val_loss: 0.4885 - val_accuracy: 0.8376\n",
            "Epoch 10/10\n",
            "1719/1719 [==============================] - 8s 4ms/step - loss: 0.4923 - accuracy: 0.8316 - val_loss: 0.4807 - val_accuracy: 0.8386\n"
          ]
        }
      ],
      "source": [
        "history = model.fit(X_train, y_train, epochs=10,\n",
        "                    validation_data=(X_valid, y_valid))"
      ]
    },
    {
      "cell_type": "markdown",
      "metadata": {
        "id": "EZpG_rx9R6CW"
      },
      "source": [
        "ELU"
      ]
    },
    {
      "cell_type": "code",
      "execution_count": null,
      "metadata": {
        "id": "0kbc-etvSMXm"
      },
      "outputs": [],
      "source": [
        "\n",
        "def elu(z, alpha=1):\n",
        "    return np.where(z < 0, alpha * (np.exp(z) - 1), z)"
      ]
    },
    {
      "cell_type": "code",
      "execution_count": null,
      "metadata": {
        "id": "3htdLK-gSOqL",
        "colab": {
          "base_uri": "https://localhost:8080/",
          "height": 523
        },
        "outputId": "5ec93840-2a47-4ba5-cbba-0a5d41db2d90"
      },
      "outputs": [
        {
          "output_type": "stream",
          "name": "stdout",
          "text": [
            "Saving figure elu_plot\n"
          ]
        },
        {
          "output_type": "display_data",
          "data": {
            "text/plain": [
              "<Figure size 640x480 with 1 Axes>"
            ],
            "image/png": "[encoded data removed]"
          },
          "metadata": {}
        },
        {
          "output_type": "stream",
          "name": "stdout",
          "text": [
            "2019250059 한민욱\n"
          ]
        }
      ],
      "source": [
        "plt.plot(z, elu(z), \"b-\", linewidth=2)\n",
        "plt.plot([-5, 5], [0, 0], 'k-')\n",
        "plt.plot([-5, 5], [-1, -1], 'k--')\n",
        "plt.plot([0, 0], [-2.2, 3.2], 'k-')\n",
        "plt.grid(True)\n",
        "plt.title(r\"ELU activation function ($\\alpha=1$)\", fontsize=14)\n",
        "plt.axis([-5, 5, -2.2, 3.2])\n",
        "\n",
        "save_fig(\"elu_plot\")\n",
        "plt.show()\n",
        "print(\"2019250059 한민욱\")"
      ]
    },
    {
      "cell_type": "markdown",
      "metadata": {
        "id": "xgjFVj4wXd5a"
      },
      "source": [
        "그래프의 형태:\n",
        "x축은 입력값\n",
        "𝑧\n",
        "z를 나타냅니다. 이 값은 -5부터 5까지의 범위에서 변화합니다.\n",
        "y축은 ELU 함수의 출력값을 나타냅니다. 출력값은 음수일 때 지수 함수의 특성에 따라 부드럽게 꺾이며, 양수일 때는 입력값과 동일한 값을 가집니다.\n",
        "그래프의 주요 부분:\n",
        "파란색 선: ELU 함수의 곡선을 나타냅니다. 입력값이 음수인 경우 부드럽게 꺾이는 것을 볼 수 있습니다.\n",
        "검은색 선: x축과 y축을 나타냅니다.\n",
        "검은색 점선: ELU 함수의 출력값이 -1로 수렴하는 부분을 나타냅니다.\n",
        "그래프의 제목과 축:\n",
        "그래프의 제목은 \"ELU activation function ($\\alpha=1$)\"으로 설정되어 있습니다.\n",
        "x축과 y축은 각각 입력값과 ELU 함수의 출력값을 나타냅니다.\n",
        "이 그래프를 통해 ELU 함수의 특성을 시각적으로 확인할 수 있습니다."
      ]
    },
    {
      "cell_type": "code",
      "execution_count": null,
      "metadata": {
        "id": "KA3JhsR9ST-D",
        "colab": {
          "base_uri": "https://localhost:8080/"
        },
        "outputId": "e38fdbbe-752d-45d6-dbad-267083cf8f52"
      },
      "outputs": [
        {
          "output_type": "execute_result",
          "data": {
            "text/plain": [
              "<keras.src.layers.core.dense.Dense at 0x7f421100e770>"
            ]
          },
          "metadata": {},
          "execution_count": 23
        }
      ],
      "source": [
        "keras.layers.Dense(10, activation=\"elu\")"
      ]
    },
    {
      "cell_type": "markdown",
      "metadata": {
        "id": "nrAyPAjfSPAG"
      },
      "source": [
        "SELU"
      ]
    },
    {
      "cell_type": "code",
      "execution_count": null,
      "metadata": {
        "id": "i6GCpCqeSVrY"
      },
      "outputs": [],
      "source": [
        "from scipy.special import erfc\n",
        "\n",
        "# alpha and scale to self normalize with mean 0 and standard deviation 1\n",
        "# (see equation 14 in the paper):\n",
        "alpha_0_1 = -np.sqrt(2 / np.pi) / (erfc(1/np.sqrt(2)) * np.exp(1/2) - 1)\n",
        "scale_0_1 = (1 - erfc(1 / np.sqrt(2)) * np.sqrt(np.e)) * np.sqrt(2 * np.pi) * (2 * erfc(np.sqrt(2))*np.e**2 + np.pi*erfc(1/np.sqrt(2))**2*np.e - 2*(2+np.pi)*erfc(1/np.sqrt(2))*np.sqrt(np.e)+np.pi+2)**(-1/2)"
      ]
    },
    {
      "cell_type": "code",
      "execution_count": null,
      "metadata": {
        "id": "5V-Xgmv6SaiK"
      },
      "outputs": [],
      "source": [
        "def selu(z, scale=scale_0_1, alpha=alpha_0_1):\n",
        "    return scale * elu(z, alpha)"
      ]
    },
    {
      "cell_type": "code",
      "execution_count": null,
      "metadata": {
        "id": "uEBIYJOnSbdq",
        "colab": {
          "base_uri": "https://localhost:8080/",
          "height": 523
        },
        "outputId": "1f43e169-c8cd-48ae-b7df-1d0f14443022"
      },
      "outputs": [
        {
          "output_type": "stream",
          "name": "stdout",
          "text": [
            "Saving figure selu_plot\n"
          ]
        },
        {
          "output_type": "display_data",
          "data": {
            "text/plain": [
              "<Figure size 640x480 with 1 Axes>"
            ],
            "image/png": "[encoded data removed]"
          },
          "metadata": {}
        },
        {
          "output_type": "stream",
          "name": "stdout",
          "text": [
            "2019250059 한민욱\n"
          ]
        }
      ],
      "source": [
        "plt.plot(z, selu(z), \"b-\", linewidth=2)\n",
        "plt.plot([-5, 5], [0, 0], 'k-')\n",
        "plt.plot([-5, 5], [-1.758, -1.758], 'k--')\n",
        "plt.plot([0, 0], [-2.2, 3.2], 'k-')\n",
        "plt.grid(True)\n",
        "plt.title(\"SELU activation function\", fontsize=14)\n",
        "plt.axis([-5, 5, -2.2, 3.2])\n",
        "\n",
        "save_fig(\"selu_plot\")\n",
        "plt.show()\n",
        "print(\"2019250059 한민욱\")"
      ]
    },
    {
      "cell_type": "markdown",
      "metadata": {
        "id": "jD2u4MJjXjhQ"
      },
      "source": [
        "그래프의 형태:\n",
        "x축은 입력값\n",
        "𝑧\n",
        "z를 나타냅니다. 이 값은 -5부터 5까지의 범위에서 변화합니다.\n",
        "y축은 SELU 함수의 출력값을 나타냅니다. 출력값은 음수일 때 특정 값으로 수렴하며, 양수일 때는 입력값과 비슷한 값을 가집니다.\n",
        "그래프의 주요 부분:\n",
        "파란색 선: SELU 함수의 곡선을 나타냅니다. 입력값이 음수인 경우 특정 값으로 수렴하는 것을 볼 수 있습니다.\n",
        "검은색 선: x축과 y축을 나타냅니다.\n",
        "검은색 점선: SELU 함수의 출력값이 특정 값으로 수렴하는 부분을 나타냅니다.\n",
        "그래프의 제목과 축:\n",
        "그래프의 제목은 \"SELU activation function\"으로 설정되어 있습니다.\n",
        "x축과 y축은 각각 입력값과 SELU 함수의 출력값을 나타냅니다.\n",
        "이 그래프를 통해 SELU 함수의 특성을 시각적으로 확인할 수 있습니다."
      ]
    },
    {
      "cell_type": "code",
      "execution_count": null,
      "metadata": {
        "id": "T6aHJNkaSe0q",
        "colab": {
          "base_uri": "https://localhost:8080/"
        },
        "outputId": "dce5fce3-3dfa-4081-a1ef-9cffb1771d7a"
      },
      "outputs": [
        {
          "output_type": "stream",
          "name": "stdout",
          "text": [
            "Layer 0: mean -0.00, std deviation 1.00\n",
            "Layer 100: mean 0.02, std deviation 0.96\n",
            "Layer 200: mean 0.01, std deviation 0.90\n",
            "Layer 300: mean -0.02, std deviation 0.92\n",
            "Layer 400: mean 0.05, std deviation 0.89\n",
            "Layer 500: mean 0.01, std deviation 0.93\n",
            "Layer 600: mean 0.02, std deviation 0.92\n",
            "Layer 700: mean -0.02, std deviation 0.90\n",
            "Layer 800: mean 0.05, std deviation 0.83\n",
            "Layer 900: mean 0.02, std deviation 1.00\n"
          ]
        }
      ],
      "source": [
        "np.random.seed(42)\n",
        "Z = np.random.normal(size=(500, 100)) # standardized inputs\n",
        "for layer in range(1000):\n",
        "    W = np.random.normal(size=(100, 100), scale=np.sqrt(1 / 100)) # LeCun initialization\n",
        "    Z = selu(np.dot(Z, W))\n",
        "    means = np.mean(Z, axis=0).mean()\n",
        "    stds = np.std(Z, axis=0).mean()\n",
        "    if layer % 100 == 0:\n",
        "        print(\"Layer {}: mean {:.2f}, std deviation {:.2f}\".format(layer, means, stds))"
      ]
    },
    {
      "cell_type": "code",
      "execution_count": null,
      "metadata": {
        "id": "Ibhj5uAISix3",
        "colab": {
          "base_uri": "https://localhost:8080/"
        },
        "outputId": "b3f458e6-040e-4766-f8e9-175445308d3d"
      },
      "outputs": [
        {
          "output_type": "execute_result",
          "data": {
            "text/plain": [
              "<keras.src.layers.core.dense.Dense at 0x7f421022a7a0>"
            ]
          },
          "metadata": {},
          "execution_count": 28
        }
      ],
      "source": [
        "keras.layers.Dense(10, activation=\"selu\",\n",
        "                   kernel_initializer=\"lecun_normal\")"
      ]
    },
    {
      "cell_type": "code",
      "execution_count": null,
      "metadata": {
        "id": "WXHY564KSjhp"
      },
      "outputs": [],
      "source": [
        "np.random.seed(42)\n",
        "tf.random.set_seed(42)"
      ]
    },
    {
      "cell_type": "code",
      "execution_count": null,
      "metadata": {
        "id": "xVBkA6CLSkeN"
      },
      "outputs": [],
      "source": [
        "model = keras.models.Sequential()\n",
        "model.add(keras.layers.Flatten(input_shape=[28, 28]))\n",
        "model.add(keras.layers.Dense(300, activation=\"selu\",\n",
        "                             kernel_initializer=\"lecun_normal\"))\n",
        "for layer in range(99):\n",
        "    model.add(keras.layers.Dense(100, activation=\"selu\",\n",
        "                                 kernel_initializer=\"lecun_normal\"))\n",
        "model.add(keras.layers.Dense(10, activation=\"softmax\"))"
      ]
    },
    {
      "cell_type": "code",
      "execution_count": null,
      "metadata": {
        "id": "A7qmT7xwSl6v"
      },
      "outputs": [],
      "source": [
        "model.compile(loss=\"sparse_categorical_crossentropy\",\n",
        "              optimizer=keras.optimizers.SGD(learning_rate=1e-3),\n",
        "              metrics=[\"accuracy\"])"
      ]
    },
    {
      "cell_type": "code",
      "execution_count": null,
      "metadata": {
        "id": "KbUTtiiESnJg"
      },
      "outputs": [],
      "source": [
        "pixel_means = X_train.mean(axis=0, keepdims=True)\n",
        "pixel_stds = X_train.std(axis=0, keepdims=True)\n",
        "X_train_scaled = (X_train - pixel_means) / pixel_stds\n",
        "X_valid_scaled = (X_valid - pixel_means) / pixel_stds\n",
        "X_test_scaled = (X_test - pixel_means) / pixel_stds"
      ]
    },
    {
      "cell_type": "code",
      "execution_count": null,
      "metadata": {
        "id": "9nDdTMkNSoTU",
        "colab": {
          "base_uri": "https://localhost:8080/"
        },
        "outputId": "527f53b7-a8f2-43a6-9254-6c0fd7c264b1"
      },
      "outputs": [
        {
          "output_type": "stream",
          "name": "stdout",
          "text": [
            "Epoch 1/5\n",
            "1719/1719 [==============================] - 11s 6ms/step - loss: 1.0701 - accuracy: 0.6671 - val_loss: 0.7026 - val_accuracy: 0.7794\n",
            "Epoch 2/5\n",
            "1719/1719 [==============================] - 11s 6ms/step - loss: 0.6945 - accuracy: 0.7758 - val_loss: 0.5830 - val_accuracy: 0.8086\n",
            "Epoch 3/5\n",
            "1719/1719 [==============================] - 11s 6ms/step - loss: 0.6087 - accuracy: 0.7988 - val_loss: 0.5565 - val_accuracy: 0.8284\n",
            "Epoch 4/5\n",
            "1719/1719 [==============================] - 10s 6ms/step - loss: 0.5537 - accuracy: 0.8148 - val_loss: 0.5124 - val_accuracy: 0.8356\n",
            "Epoch 5/5\n",
            "1719/1719 [==============================] - 12s 7ms/step - loss: 0.5198 - accuracy: 0.8235 - val_loss: 0.4648 - val_accuracy: 0.8434\n"
          ]
        }
      ],
      "source": [
        "history = model.fit(X_train_scaled, y_train, epochs=5,\n",
        "                    validation_data=(X_valid_scaled, y_valid))"
      ]
    },
    {
      "cell_type": "code",
      "execution_count": null,
      "metadata": {
        "id": "JyRhYTJsSpls"
      },
      "outputs": [],
      "source": [
        "np.random.seed(42)\n",
        "tf.random.set_seed(42)"
      ]
    },
    {
      "cell_type": "code",
      "execution_count": null,
      "metadata": {
        "id": "apFNhjjMSqas"
      },
      "outputs": [],
      "source": [
        "model = keras.models.Sequential()\n",
        "model.add(keras.layers.Flatten(input_shape=[28, 28]))\n",
        "model.add(keras.layers.Dense(300, activation=\"relu\", kernel_initializer=\"he_normal\"))\n",
        "for layer in range(99):\n",
        "    model.add(keras.layers.Dense(100, activation=\"relu\", kernel_initializer=\"he_normal\"))\n",
        "model.add(keras.layers.Dense(10, activation=\"softmax\"))"
      ]
    },
    {
      "cell_type": "code",
      "execution_count": null,
      "metadata": {
        "id": "VVrN9yDkSrDA"
      },
      "outputs": [],
      "source": [
        "model.compile(loss=\"sparse_categorical_crossentropy\",\n",
        "              optimizer=keras.optimizers.SGD(learning_rate=1e-3),\n",
        "              metrics=[\"accuracy\"])"
      ]
    },
    {
      "cell_type": "code",
      "execution_count": null,
      "metadata": {
        "id": "KRCBwym4SslY",
        "colab": {
          "base_uri": "https://localhost:8080/"
        },
        "outputId": "5ddfbb26-ff5b-4446-8ad4-ffd858273b99"
      },
      "outputs": [
        {
          "output_type": "stream",
          "name": "stdout",
          "text": [
            "Epoch 1/5\n",
            "1719/1719 [==============================] - 51s 24ms/step - loss: 1.9977 - accuracy: 0.2109 - val_loss: 1.7379 - val_accuracy: 0.2926\n",
            "Epoch 2/5\n",
            "1719/1719 [==============================] - 34s 20ms/step - loss: 1.5361 - accuracy: 0.3600 - val_loss: 1.3969 - val_accuracy: 0.4130\n",
            "Epoch 3/5\n",
            "1719/1719 [==============================] - 34s 20ms/step - loss: 1.1364 - accuracy: 0.5296 - val_loss: 1.0277 - val_accuracy: 0.5600\n",
            "Epoch 4/5\n",
            "1719/1719 [==============================] - 33s 19ms/step - loss: 0.9071 - accuracy: 0.6352 - val_loss: 0.8899 - val_accuracy: 0.6272\n",
            "Epoch 5/5\n",
            "1719/1719 [==============================] - 35s 21ms/step - loss: 0.7907 - accuracy: 0.6921 - val_loss: 0.7238 - val_accuracy: 0.7136\n"
          ]
        }
      ],
      "source": [
        "history = model.fit(X_train_scaled, y_train, epochs=5,\n",
        "                    validation_data=(X_valid_scaled, y_valid))"
      ]
    },
    {
      "cell_type": "markdown",
      "metadata": {
        "id": "t4ndNQ-XSV_A"
      },
      "source": [
        "Batch Normalization"
      ]
    },
    {
      "cell_type": "code",
      "execution_count": null,
      "metadata": {
        "id": "ZvvOq6_cSubs"
      },
      "outputs": [],
      "source": [
        "model = keras.models.Sequential([\n",
        "    keras.layers.Flatten(input_shape=[28, 28]),\n",
        "    keras.layers.BatchNormalization(),\n",
        "    keras.layers.Dense(300, activation=\"relu\"),\n",
        "    keras.layers.BatchNormalization(),\n",
        "    keras.layers.Dense(100, activation=\"relu\"),\n",
        "    keras.layers.BatchNormalization(),\n",
        "    keras.layers.Dense(10, activation=\"softmax\")\n",
        "])"
      ]
    },
    {
      "cell_type": "code",
      "execution_count": null,
      "metadata": {
        "id": "bC3Bc_crSwaB",
        "colab": {
          "base_uri": "https://localhost:8080/"
        },
        "outputId": "5d98016c-263d-4f62-b6a8-cba0641ac0db"
      },
      "outputs": [
        {
          "output_type": "stream",
          "name": "stdout",
          "text": [
            "Model: \"sequential_21\"\n",
            "_________________________________________________________________\n",
            " Layer (type)                Output Shape              Param #   \n",
            "=================================================================\n",
            " flatten_17 (Flatten)        (None, 784)               0         \n",
            "                                                                 \n",
            " batch_normalization_15 (Ba  (None, 784)               3136      \n",
            " tchNormalization)                                               \n",
            "                                                                 \n",
            " dense_463 (Dense)           (None, 300)               235500    \n",
            "                                                                 \n",
            " batch_normalization_16 (Ba  (None, 300)               1200      \n",
            " tchNormalization)                                               \n",
            "                                                                 \n",
            " dense_464 (Dense)           (None, 100)               30100     \n",
            "                                                                 \n",
            " batch_normalization_17 (Ba  (None, 100)               400       \n",
            " tchNormalization)                                               \n",
            "                                                                 \n",
            " dense_465 (Dense)           (None, 10)                1010      \n",
            "                                                                 \n",
            "=================================================================\n",
            "Total params: 271346 (1.04 MB)\n",
            "Trainable params: 268978 (1.03 MB)\n",
            "Non-trainable params: 2368 (9.25 KB)\n",
            "_________________________________________________________________\n"
          ]
        }
      ],
      "source": [
        "model.summary()"
      ]
    },
    {
      "cell_type": "code",
      "execution_count": null,
      "metadata": {
        "id": "WudUMoLkSx03",
        "colab": {
          "base_uri": "https://localhost:8080/"
        },
        "outputId": "b6d2a4ef-b478-4549-aadc-aaf5226f4f8c"
      },
      "outputs": [
        {
          "output_type": "execute_result",
          "data": {
            "text/plain": [
              "[('batch_normalization_15/gamma:0', True),\n",
              " ('batch_normalization_15/beta:0', True),\n",
              " ('batch_normalization_15/moving_mean:0', False),\n",
              " ('batch_normalization_15/moving_variance:0', False)]"
            ]
          },
          "metadata": {},
          "execution_count": 128
        }
      ],
      "source": [
        "bn1 = model.layers[1]\n",
        "[(var.name, var.trainable) for var in bn1.variables]"
      ]
    },
    {
      "cell_type": "code",
      "execution_count": null,
      "metadata": {
        "id": "ZHWWP8hPS0C4",
        "colab": {
          "base_uri": "https://localhost:8080/"
        },
        "outputId": "e69775d2-398d-42f8-bb92-adb51fb121de"
      },
      "outputs": [
        {
          "output_type": "stream",
          "name": "stderr",
          "text": [
            "<ipython-input-129-3f3161b80a85>:1: UserWarning: `layer.updates` will be removed in a future version. This property should not be used in TensorFlow 2.0, as `updates` are applied automatically.\n",
            "  bn1.updates\n"
          ]
        },
        {
          "output_type": "execute_result",
          "data": {
            "text/plain": [
              "[]"
            ]
          },
          "metadata": {},
          "execution_count": 129
        }
      ],
      "source": [
        "bn1.updates"
      ]
    },
    {
      "cell_type": "code",
      "execution_count": null,
      "metadata": {
        "id": "q2e4Naz-S1rr"
      },
      "outputs": [],
      "source": [
        "model.compile(loss=\"sparse_categorical_crossentropy\",\n",
        "              optimizer=keras.optimizers.SGD(learning_rate=1e-3),\n",
        "              metrics=[\"accuracy\"])"
      ]
    },
    {
      "cell_type": "code",
      "execution_count": null,
      "metadata": {
        "id": "EsYVFPAyS2-6",
        "colab": {
          "base_uri": "https://localhost:8080/"
        },
        "outputId": "f92fce7a-5cdc-4b55-c849-7c6e2fb8c04f"
      },
      "outputs": [
        {
          "output_type": "stream",
          "name": "stdout",
          "text": [
            "Epoch 1/10\n",
            "1719/1719 [==============================] - 12s 7ms/step - loss: 0.3186 - accuracy: 0.8880 - val_loss: 0.3221 - val_accuracy: 0.8876\n",
            "Epoch 2/10\n",
            "1719/1719 [==============================] - 19s 11ms/step - loss: 0.3154 - accuracy: 0.8869 - val_loss: 0.3192 - val_accuracy: 0.8874\n",
            "Epoch 3/10\n",
            "1719/1719 [==============================] - 14s 8ms/step - loss: 0.3136 - accuracy: 0.8894 - val_loss: 0.3192 - val_accuracy: 0.8884\n",
            "Epoch 4/10\n",
            "1719/1719 [==============================] - 11s 6ms/step - loss: 0.3083 - accuracy: 0.8914 - val_loss: 0.3182 - val_accuracy: 0.8882\n",
            "Epoch 5/10\n",
            "1719/1719 [==============================] - 9s 5ms/step - loss: 0.3045 - accuracy: 0.8915 - val_loss: 0.3173 - val_accuracy: 0.8900\n",
            "Epoch 6/10\n",
            "1719/1719 [==============================] - 11s 7ms/step - loss: 0.3020 - accuracy: 0.8921 - val_loss: 0.3155 - val_accuracy: 0.8884\n",
            "Epoch 7/10\n",
            "1719/1719 [==============================] - 11s 7ms/step - loss: 0.3000 - accuracy: 0.8944 - val_loss: 0.3139 - val_accuracy: 0.8902\n",
            "Epoch 8/10\n",
            "1719/1719 [==============================] - 10s 6ms/step - loss: 0.2974 - accuracy: 0.8955 - val_loss: 0.3139 - val_accuracy: 0.8900\n",
            "Epoch 9/10\n",
            "1719/1719 [==============================] - 11s 6ms/step - loss: 0.2944 - accuracy: 0.8949 - val_loss: 0.3126 - val_accuracy: 0.8914\n",
            "Epoch 10/10\n",
            "1719/1719 [==============================] - 11s 7ms/step - loss: 0.2916 - accuracy: 0.8951 - val_loss: 0.3113 - val_accuracy: 0.8902\n"
          ]
        }
      ],
      "source": [
        "history = model.fit(X_train, y_train, epochs=10,\n",
        "                    validation_data=(X_valid, y_valid))"
      ]
    },
    {
      "cell_type": "code",
      "execution_count": null,
      "metadata": {
        "id": "98vScnawS5fI"
      },
      "outputs": [],
      "source": [
        "model = keras.models.Sequential([\n",
        "    keras.layers.Flatten(input_shape=[28, 28]),\n",
        "    keras.layers.BatchNormalization(),\n",
        "    keras.layers.Dense(300, use_bias=False),\n",
        "    keras.layers.BatchNormalization(),\n",
        "    keras.layers.Activation(\"relu\"),\n",
        "    keras.layers.Dense(100, use_bias=False),\n",
        "    keras.layers.BatchNormalization(),\n",
        "    keras.layers.Activation(\"relu\"),\n",
        "    keras.layers.Dense(10, activation=\"softmax\")\n",
        "])"
      ]
    },
    {
      "cell_type": "code",
      "execution_count": null,
      "metadata": {
        "id": "q_RRRM8pS6oY"
      },
      "outputs": [],
      "source": [
        "model.compile(loss=\"sparse_categorical_crossentropy\",\n",
        "              optimizer=keras.optimizers.SGD(learning_rate=1e-3),\n",
        "              metrics=[\"accuracy\"])"
      ]
    },
    {
      "cell_type": "code",
      "execution_count": null,
      "metadata": {
        "id": "de1GJva4S7gm",
        "colab": {
          "base_uri": "https://localhost:8080/"
        },
        "outputId": "591e7d20-588c-4077-d17f-83f796967899"
      },
      "outputs": [
        {
          "output_type": "stream",
          "name": "stdout",
          "text": [
            "Epoch 1/10\n",
            "1719/1719 [==============================] - 12s 6ms/step - loss: 1.0866 - accuracy: 0.6549 - val_loss: 0.6853 - val_accuracy: 0.7882\n",
            "Epoch 2/10\n",
            "1719/1719 [==============================] - 12s 7ms/step - loss: 0.6840 - accuracy: 0.7798 - val_loss: 0.5587 - val_accuracy: 0.8206\n",
            "Epoch 3/10\n",
            "1719/1719 [==============================] - 12s 7ms/step - loss: 0.5980 - accuracy: 0.8020 - val_loss: 0.5021 - val_accuracy: 0.8350\n",
            "Epoch 4/10\n",
            "1719/1719 [==============================] - 10s 6ms/step - loss: 0.5459 - accuracy: 0.8173 - val_loss: 0.4665 - val_accuracy: 0.8454\n",
            "Epoch 5/10\n",
            "1719/1719 [==============================] - 11s 6ms/step - loss: 0.5111 - accuracy: 0.8266 - val_loss: 0.4436 - val_accuracy: 0.8536\n",
            "Epoch 6/10\n",
            "1719/1719 [==============================] - 12s 7ms/step - loss: 0.4900 - accuracy: 0.8316 - val_loss: 0.4259 - val_accuracy: 0.8564\n",
            "Epoch 7/10\n",
            "1719/1719 [==============================] - 12s 7ms/step - loss: 0.4713 - accuracy: 0.8387 - val_loss: 0.4118 - val_accuracy: 0.8606\n",
            "Epoch 8/10\n",
            "1719/1719 [==============================] - 10s 6ms/step - loss: 0.4566 - accuracy: 0.8425 - val_loss: 0.4020 - val_accuracy: 0.8656\n",
            "Epoch 9/10\n",
            "1719/1719 [==============================] - 11s 7ms/step - loss: 0.4439 - accuracy: 0.8477 - val_loss: 0.3929 - val_accuracy: 0.8648\n",
            "Epoch 10/10\n",
            "1719/1719 [==============================] - 11s 7ms/step - loss: 0.4299 - accuracy: 0.8518 - val_loss: 0.3859 - val_accuracy: 0.8674\n"
          ]
        }
      ],
      "source": [
        "history = model.fit(X_train, y_train, epochs=10,\n",
        "                    validation_data=(X_valid, y_valid))"
      ]
    },
    {
      "cell_type": "markdown",
      "metadata": {
        "id": "50GtwyjTXrFs"
      },
      "source": [
        "keras.models.Sequential: Sequential 모델을 생성합니다. 이 모델은 각 층이 차례대로 연결된 신경망을 정의합니다.\n",
        "keras.layers.Flatten(input_shape=[28, 28]): 입력 이미지를 28x28 크기의 2D 배열에서 1D 배열로 변환합니다.\n",
        "keras.layers.BatchNormalization(): 배치 정규화 층을 추가합니다. 이 층은 각 배치의 평균과 표준 편차를 사용하여 입력을 정규화합니다.\n",
        "keras.layers.Dense(300, use_bias=False): 300개의 뉴런을 가진 완전 연결 층을 추가합니다. use_bias=False로 설정하여 편향을 사용하지 않습니다.\n",
        "keras.layers.Activation(\"relu\"): ReLU 활성화 함수를 적용합니다.\n",
        "keras.layers.Dense(100, use_bias=False): 100개의 뉴런을 가진 완전 연결 층을 추가합니다.\n",
        "keras.layers.Activation(\"relu\"): ReLU 활성화 함수를 적용합니다.\n",
        "keras.layers.Dense(10, activation=\"softmax\"): 10개의 뉴런을 가진 완전 연결 층을 추가하고, 출력을 다중 클래스 분류를 위한 확률로 변환하기 위해 소프트맥스 활성화 함수를 사용합니다.\n",
        "model.compile: 모델을 컴파일합니다. 손실 함수로는 sparse_categorical_crossentropy를, 옵티마이저로는 SGD(확률적 경사 하강법)을 사용합니다. 정확도 지표를 사용하여 모델을 평가합니다.\n",
        "model.fit: 훈련 데이터(X_train, y_train)를 사용하여 모델을 10번의 epoch 동안 훈련합니다. 검증 데이터(X_valid, y_valid)를 사용하여 검증합니다. 훈련 과정의 결과는 history 객체에 저장됩니다.\n",
        "이렇게 구성된 모델은 배치 정규화를 사용하여 훈련 속도를 높이고, 그래디언트 소실과 폭주 문제를 줄여줍니다."
      ]
    },
    {
      "cell_type": "markdown",
      "metadata": {
        "id": "Hxfike5LYOow"
      },
      "source": [
        "실습과제#16-2 Transfer Learning - Fashion MNIST dataset"
      ]
    },
    {
      "cell_type": "markdown",
      "metadata": {
        "id": "aeY0dnzuYfCS"
      },
      "source": [
        "Reusing a Keras model"
      ]
    },
    {
      "cell_type": "code",
      "execution_count": null,
      "metadata": {
        "id": "TiiWsWbCYVFI"
      },
      "outputs": [],
      "source": [
        "def split_dataset(X, y):\n",
        "    y_5_or_6 = (y == 5) | (y == 6) # sandals or shirts\n",
        "    y_A = y[~y_5_or_6]\n",
        "    y_A[y_A > 6] -= 2 # class indices 7, 8, 9 should be moved to 5, 6, 7\n",
        "    y_B = (y[y_5_or_6] == 6).astype(np.float32) # binary classification task: is it a shirt (class 6)?\n",
        "    return ((X[~y_5_or_6], y_A),\n",
        "            (X[y_5_or_6], y_B))\n",
        "\n",
        "(X_train_A, y_train_A), (X_train_B, y_train_B) = split_dataset(X_train, y_train)\n",
        "(X_valid_A, y_valid_A), (X_valid_B, y_valid_B) = split_dataset(X_valid, y_valid)\n",
        "(X_test_A, y_test_A), (X_test_B, y_test_B) = split_dataset(X_test, y_test)\n",
        "X_train_B = X_train_B[:200]\n",
        "y_train_B = y_train_B[:200]"
      ]
    },
    {
      "cell_type": "code",
      "execution_count": null,
      "metadata": {
        "id": "4v-Rf8lYYh9G",
        "colab": {
          "base_uri": "https://localhost:8080/"
        },
        "outputId": "ba2a78a2-87bb-4ed3-bbfb-df62f5d545a4"
      },
      "outputs": [
        {
          "output_type": "execute_result",
          "data": {
            "text/plain": [
              "(43986, 28, 28)"
            ]
          },
          "metadata": {},
          "execution_count": 135
        }
      ],
      "source": [
        "X_train_A.shape"
      ]
    },
    {
      "cell_type": "code",
      "execution_count": null,
      "metadata": {
        "id": "64W15TA8Yjv_",
        "colab": {
          "base_uri": "https://localhost:8080/"
        },
        "outputId": "7b1c9a0e-598f-45c8-9385-73ba8b2b518a"
      },
      "outputs": [
        {
          "output_type": "execute_result",
          "data": {
            "text/plain": [
              "(200, 28, 28)"
            ]
          },
          "metadata": {},
          "execution_count": 136
        }
      ],
      "source": [
        "X_train_B.shape"
      ]
    },
    {
      "cell_type": "code",
      "execution_count": null,
      "metadata": {
        "id": "S_lc0f06YkYh",
        "colab": {
          "base_uri": "https://localhost:8080/"
        },
        "outputId": "9cb354ee-874f-4095-9f92-0afb32bd0ebd"
      },
      "outputs": [
        {
          "output_type": "execute_result",
          "data": {
            "text/plain": [
              "array([4, 0, 5, 7, 7, 7, 4, 4, 3, 4, 0, 1, 6, 3, 4, 3, 2, 6, 5, 3, 4, 5,\n",
              "       1, 3, 4, 2, 0, 6, 7, 1], dtype=uint8)"
            ]
          },
          "metadata": {},
          "execution_count": 137
        }
      ],
      "source": [
        "y_train_A[:30]"
      ]
    },
    {
      "cell_type": "code",
      "execution_count": null,
      "metadata": {
        "id": "LG0Ll-ZIYmVZ",
        "colab": {
          "base_uri": "https://localhost:8080/"
        },
        "outputId": "e1a01ba7-65e1-4388-84e7-4763287207fd"
      },
      "outputs": [
        {
          "output_type": "execute_result",
          "data": {
            "text/plain": [
              "array([1., 1., 0., 0., 0., 0., 1., 1., 1., 0., 0., 1., 1., 0., 0., 0., 0.,\n",
              "       0., 0., 1., 1., 0., 0., 1., 1., 0., 1., 1., 1., 1.], dtype=float32)"
            ]
          },
          "metadata": {},
          "execution_count": 138
        }
      ],
      "source": [
        "y_train_B[:30]"
      ]
    },
    {
      "cell_type": "markdown",
      "metadata": {
        "id": "KDDYZZVniPWU"
      },
      "source": [
        "split_dataset 함수:\n",
        "함수는 입력으로 특성 행렬 X와 타겟 벡터 y를 받습니다.\n",
        "y_5_or_6은 y가 5 또는 6인지를 나타내는 불리언 마스크입니다.\n",
        "y_A는 클래스 5 또는 6을 제외한 클래스들을 포함합니다.\n",
        "y_B는 클래스가 6인지를 이진 분류하기 위한 타겟 벡터입니다.\n",
        "마지막으로 특성과 타겟을 각 서브셋에 할당하여 반환합니다.\n",
        "데이터셋 분할:\n",
        "split_dataset 함수를 사용하여 훈련, 검증, 테스트 데이터셋을 두 개의 서브셋으로 분할합니다.\n",
        "split_dataset 함수를 호출한 결과를 각각의 데이터셋에 할당합니다.\n",
        "데이터셋 크기 확인:\n",
        "X_train_A의 모양은 (샘플 수, 특성 수)로 출력됩니다.\n",
        "X_train_B의 모양은 (샘플 수, 특성 수)로 출력됩니다.\n",
        "처음 30개의 요소만 출력하여 y_train_A와 y_train_B의 일부를 확인합니다.\n",
        "이 코드를 통해 데이터셋이 두 개의 서브셋으로 나뉘고, 각 서브셋의 크기와 내용을 확인할 수 있습니다."
      ]
    },
    {
      "cell_type": "code",
      "execution_count": null,
      "metadata": {
        "id": "eBEJiEwVYoHb"
      },
      "outputs": [],
      "source": [
        "tf.random.set_seed(42)\n",
        "np.random.seed(42)"
      ]
    },
    {
      "cell_type": "code",
      "execution_count": null,
      "metadata": {
        "id": "taTNAXl4YpCO"
      },
      "outputs": [],
      "source": [
        "model_A = keras.models.Sequential()\n",
        "model_A.add(keras.layers.Flatten(input_shape=[28, 28]))\n",
        "for n_hidden in (300, 100, 50, 50, 50):\n",
        "    model_A.add(keras.layers.Dense(n_hidden, activation=\"selu\"))\n",
        "model_A.add(keras.layers.Dense(8, activation=\"softmax\"))"
      ]
    },
    {
      "cell_type": "code",
      "execution_count": null,
      "metadata": {
        "id": "D8E4KjA9YpX6"
      },
      "outputs": [],
      "source": [
        "model_A.compile(loss=\"sparse_categorical_crossentropy\",\n",
        "                optimizer=keras.optimizers.SGD(learning_rate=1e-3),\n",
        "                metrics=[\"accuracy\"])"
      ]
    },
    {
      "cell_type": "code",
      "execution_count": null,
      "metadata": {
        "id": "Ji-6gcnGYqKx",
        "colab": {
          "base_uri": "https://localhost:8080/"
        },
        "outputId": "d5a7a055-7b17-44e1-860a-87cfc6134208"
      },
      "outputs": [
        {
          "output_type": "stream",
          "name": "stdout",
          "text": [
            "Epoch 1/20\n",
            "1375/1375 [==============================] - 9s 6ms/step - loss: 0.5917 - accuracy: 0.8094 - val_loss: 0.3928 - val_accuracy: 0.8647\n",
            "Epoch 2/20\n",
            "1375/1375 [==============================] - 6s 5ms/step - loss: 0.3617 - accuracy: 0.8757 - val_loss: 0.3287 - val_accuracy: 0.8869\n",
            "Epoch 3/20\n",
            "1375/1375 [==============================] - 8s 6ms/step - loss: 0.3241 - accuracy: 0.8868 - val_loss: 0.3016 - val_accuracy: 0.8976\n",
            "Epoch 4/20\n",
            "1375/1375 [==============================] - 6s 4ms/step - loss: 0.3035 - accuracy: 0.8945 - val_loss: 0.2877 - val_accuracy: 0.9031\n",
            "Epoch 5/20\n",
            "1375/1375 [==============================] - 8s 6ms/step - loss: 0.2888 - accuracy: 0.8999 - val_loss: 0.2756 - val_accuracy: 0.9081\n",
            "Epoch 6/20\n",
            "1375/1375 [==============================] - 6s 4ms/step - loss: 0.2781 - accuracy: 0.9042 - val_loss: 0.2706 - val_accuracy: 0.9073\n",
            "Epoch 7/20\n",
            "1375/1375 [==============================] - 8s 6ms/step - loss: 0.2694 - accuracy: 0.9085 - val_loss: 0.2660 - val_accuracy: 0.9096\n",
            "Epoch 8/20\n",
            "1375/1375 [==============================] - 6s 4ms/step - loss: 0.2621 - accuracy: 0.9105 - val_loss: 0.2587 - val_accuracy: 0.9136\n",
            "Epoch 9/20\n",
            "1375/1375 [==============================] - 7s 5ms/step - loss: 0.2563 - accuracy: 0.9128 - val_loss: 0.2526 - val_accuracy: 0.9158\n",
            "Epoch 10/20\n",
            "1375/1375 [==============================] - 7s 5ms/step - loss: 0.2513 - accuracy: 0.9144 - val_loss: 0.2496 - val_accuracy: 0.9148\n",
            "Epoch 11/20\n",
            "1375/1375 [==============================] - 6s 4ms/step - loss: 0.2466 - accuracy: 0.9163 - val_loss: 0.2455 - val_accuracy: 0.9180\n",
            "Epoch 12/20\n",
            "1375/1375 [==============================] - 8s 6ms/step - loss: 0.2425 - accuracy: 0.9179 - val_loss: 0.2451 - val_accuracy: 0.9145\n",
            "Epoch 13/20\n",
            "1375/1375 [==============================] - 6s 4ms/step - loss: 0.2391 - accuracy: 0.9176 - val_loss: 0.2425 - val_accuracy: 0.9160\n",
            "Epoch 14/20\n",
            "1375/1375 [==============================] - 8s 6ms/step - loss: 0.2356 - accuracy: 0.9200 - val_loss: 0.2387 - val_accuracy: 0.9200\n",
            "Epoch 15/20\n",
            "1375/1375 [==============================] - 6s 4ms/step - loss: 0.2325 - accuracy: 0.9208 - val_loss: 0.2428 - val_accuracy: 0.9165\n",
            "Epoch 16/20\n",
            "1375/1375 [==============================] - 8s 6ms/step - loss: 0.2293 - accuracy: 0.9222 - val_loss: 0.2348 - val_accuracy: 0.9203\n",
            "Epoch 17/20\n",
            "1375/1375 [==============================] - 6s 4ms/step - loss: 0.2270 - accuracy: 0.9235 - val_loss: 0.2383 - val_accuracy: 0.9173\n",
            "Epoch 18/20\n",
            "1375/1375 [==============================] - 8s 6ms/step - loss: 0.2241 - accuracy: 0.9238 - val_loss: 0.2396 - val_accuracy: 0.9121\n",
            "Epoch 19/20\n",
            "1375/1375 [==============================] - 7s 5ms/step - loss: 0.2216 - accuracy: 0.9250 - val_loss: 0.2311 - val_accuracy: 0.9178\n",
            "Epoch 20/20\n",
            "1375/1375 [==============================] - 7s 5ms/step - loss: 0.2194 - accuracy: 0.9254 - val_loss: 0.2320 - val_accuracy: 0.9205\n"
          ]
        }
      ],
      "source": [
        "history = model_A.fit(X_train_A, y_train_A, epochs=20,\n",
        "                    validation_data=(X_valid_A, y_valid_A))"
      ]
    },
    {
      "cell_type": "code",
      "execution_count": null,
      "metadata": {
        "id": "nR6sm3i3YsLx"
      },
      "outputs": [],
      "source": [
        "model_A.save(\"my_model_A.h5\")"
      ]
    },
    {
      "cell_type": "code",
      "execution_count": null,
      "metadata": {
        "id": "L0U0ZT7DYtAa"
      },
      "outputs": [],
      "source": [
        "model_B = keras.models.Sequential()\n",
        "model_B.add(keras.layers.Flatten(input_shape=[28, 28]))\n",
        "for n_hidden in (300, 100, 50, 50, 50):\n",
        "    model_B.add(keras.layers.Dense(n_hidden, activation=\"selu\"))\n",
        "model_B.add(keras.layers.Dense(1, activation=\"sigmoid\"))"
      ]
    },
    {
      "cell_type": "code",
      "execution_count": null,
      "metadata": {
        "id": "jJoDWFW8YuLQ"
      },
      "outputs": [],
      "source": [
        "model_B.compile(loss=\"binary_crossentropy\",\n",
        "                optimizer=keras.optimizers.SGD(learning_rate=1e-3),\n",
        "                metrics=[\"accuracy\"])"
      ]
    },
    {
      "cell_type": "code",
      "execution_count": null,
      "metadata": {
        "id": "fl06knROYuyY",
        "colab": {
          "base_uri": "https://localhost:8080/"
        },
        "outputId": "589b4368-2a10-41a6-b069-f09f50c40345"
      },
      "outputs": [
        {
          "output_type": "stream",
          "name": "stdout",
          "text": [
            "Epoch 1/20\n",
            "7/7 [==============================] - 1s 52ms/step - loss: 1.1557 - accuracy: 0.3100 - val_loss: 0.8156 - val_accuracy: 0.3185\n",
            "Epoch 2/20\n",
            "7/7 [==============================] - 0s 32ms/step - loss: 0.7461 - accuracy: 0.4650 - val_loss: 0.6354 - val_accuracy: 0.6755\n",
            "Epoch 3/20\n",
            "7/7 [==============================] - 0s 20ms/step - loss: 0.5984 - accuracy: 0.7050 - val_loss: 0.5318 - val_accuracy: 0.7850\n",
            "Epoch 4/20\n",
            "7/7 [==============================] - 0s 19ms/step - loss: 0.5032 - accuracy: 0.8250 - val_loss: 0.4587 - val_accuracy: 0.8590\n",
            "Epoch 5/20\n",
            "7/7 [==============================] - 0s 31ms/step - loss: 0.4348 - accuracy: 0.8700 - val_loss: 0.4038 - val_accuracy: 0.9138\n",
            "Epoch 6/20\n",
            "7/7 [==============================] - 0s 31ms/step - loss: 0.3802 - accuracy: 0.9300 - val_loss: 0.3594 - val_accuracy: 0.9371\n",
            "Epoch 7/20\n",
            "7/7 [==============================] - 0s 32ms/step - loss: 0.3369 - accuracy: 0.9600 - val_loss: 0.3245 - val_accuracy: 0.9523\n",
            "Epoch 8/20\n",
            "7/7 [==============================] - 0s 18ms/step - loss: 0.3019 - accuracy: 0.9700 - val_loss: 0.2954 - val_accuracy: 0.9645\n",
            "Epoch 9/20\n",
            "7/7 [==============================] - 0s 32ms/step - loss: 0.2725 - accuracy: 0.9750 - val_loss: 0.2710 - val_accuracy: 0.9767\n",
            "Epoch 10/20\n",
            "7/7 [==============================] - 0s 33ms/step - loss: 0.2483 - accuracy: 0.9850 - val_loss: 0.2500 - val_accuracy: 0.9767\n",
            "Epoch 11/20\n",
            "7/7 [==============================] - 0s 32ms/step - loss: 0.2277 - accuracy: 0.9900 - val_loss: 0.2321 - val_accuracy: 0.9787\n",
            "Epoch 12/20\n",
            "7/7 [==============================] - 0s 31ms/step - loss: 0.2099 - accuracy: 0.9950 - val_loss: 0.2167 - val_accuracy: 0.9807\n",
            "Epoch 13/20\n",
            "7/7 [==============================] - 0s 19ms/step - loss: 0.1944 - accuracy: 1.0000 - val_loss: 0.2033 - val_accuracy: 0.9817\n",
            "Epoch 14/20\n",
            "7/7 [==============================] - 0s 31ms/step - loss: 0.1809 - accuracy: 1.0000 - val_loss: 0.1913 - val_accuracy: 0.9838\n",
            "Epoch 15/20\n",
            "7/7 [==============================] - 0s 31ms/step - loss: 0.1689 - accuracy: 1.0000 - val_loss: 0.1802 - val_accuracy: 0.9838\n",
            "Epoch 16/20\n",
            "7/7 [==============================] - 0s 18ms/step - loss: 0.1576 - accuracy: 1.0000 - val_loss: 0.1708 - val_accuracy: 0.9858\n",
            "Epoch 17/20\n",
            "7/7 [==============================] - 0s 31ms/step - loss: 0.1481 - accuracy: 1.0000 - val_loss: 0.1624 - val_accuracy: 0.9878\n",
            "Epoch 18/20\n",
            "7/7 [==============================] - 0s 31ms/step - loss: 0.1397 - accuracy: 1.0000 - val_loss: 0.1545 - val_accuracy: 0.9868\n",
            "Epoch 19/20\n",
            "7/7 [==============================] - 0s 18ms/step - loss: 0.1316 - accuracy: 1.0000 - val_loss: 0.1473 - val_accuracy: 0.9868\n",
            "Epoch 20/20\n",
            "7/7 [==============================] - 0s 18ms/step - loss: 0.1242 - accuracy: 0.9950 - val_loss: 0.1410 - val_accuracy: 0.9858\n"
          ]
        }
      ],
      "source": [
        "history = model_B.fit(X_train_B, y_train_B, epochs=20,\n",
        "                      validation_data=(X_valid_B, y_valid_B))"
      ]
    },
    {
      "cell_type": "code",
      "execution_count": null,
      "metadata": {
        "id": "PNmsnWZ2Yv2H",
        "colab": {
          "base_uri": "https://localhost:8080/"
        },
        "outputId": "08423418-488e-44d2-f501-a95705aa2975"
      },
      "outputs": [
        {
          "output_type": "stream",
          "name": "stdout",
          "text": [
            "Model: \"sequential_24\"\n",
            "_________________________________________________________________\n",
            " Layer (type)                Output Shape              Param #   \n",
            "=================================================================\n",
            " flatten_20 (Flatten)        (None, 784)               0         \n",
            "                                                                 \n",
            " dense_475 (Dense)           (None, 300)               235500    \n",
            "                                                                 \n",
            " dense_476 (Dense)           (None, 100)               30100     \n",
            "                                                                 \n",
            " dense_477 (Dense)           (None, 50)                5050      \n",
            "                                                                 \n",
            " dense_478 (Dense)           (None, 50)                2550      \n",
            "                                                                 \n",
            " dense_479 (Dense)           (None, 50)                2550      \n",
            "                                                                 \n",
            " dense_480 (Dense)           (None, 1)                 51        \n",
            "                                                                 \n",
            "=================================================================\n",
            "Total params: 275801 (1.05 MB)\n",
            "Trainable params: 275801 (1.05 MB)\n",
            "Non-trainable params: 0 (0.00 Byte)\n",
            "_________________________________________________________________\n"
          ]
        }
      ],
      "source": [
        "model_B.summary()"
      ]
    },
    {
      "cell_type": "markdown",
      "metadata": {
        "id": "8jnp39Qgiees"
      },
      "source": [
        "위 코드는 두 개의 서브넷을 이용하여 다중 출력 및 이진 분류 작업을 수행하는 모델을 구축하는 과정을 보여줍니다. 각 부분에 대해 살펴보겠습니다:\n",
        "\n",
        "model_A:\n",
        "다중 출력 작업을 위한 모델로, 8개의 클래스를 분류하는 softmax 출력층을 포함합니다.\n",
        "5개의 은닉층이 있으며, 각각 300, 100, 50, 50, 50개의 뉴런과 SELU 활성화 함수를 사용합니다.\n",
        "손실 함수로는 sparse categorical crossentropy를, 옵티마이저로는 SGD를 사용하여 컴파일합니다.\n",
        "훈련 데이터셋 (X_train_A, y_train_A)을 사용하여 모델을 훈련합니다.\n",
        "model_B:\n",
        "이진 분류 작업을 위한 모델로, 1개의 뉴런과 시그모이드 활성화 함수를 사용하는 출력층을 포함합니다.\n",
        "5개의 은닉층이 있으며, 각각 300, 100, 50, 50, 50개의 뉴런과 SELU 활성화 함수를 사용합니다.\n",
        "손실 함수로는 binary crossentropy를, 옵티마이저로는 SGD를 사용하여 컴파일합니다.\n",
        "훈련 데이터셋 (X_train_B, y_train_B)을 사용하여 모델을 훈련합니다.\n",
        "model_B.summary():\n",
        "모델 model_B의 구조와 파라미터 수를 요약하여 출력합니다.\n",
        "이렇게 구성된 모델은 두 가지 서로 다른 작업을 수행하며, 각 서브넷은 공유되는 은닉층을 사용하여 특성을 학습합니다."
      ]
    },
    {
      "cell_type": "code",
      "execution_count": null,
      "metadata": {
        "id": "TyAbMIEoYw77"
      },
      "outputs": [],
      "source": [
        "model_A = keras.models.load_model(\"my_model_A.h5\")\n",
        "model_B_on_A = keras.models.Sequential(model_A.layers[:-1])\n",
        "model_B_on_A.add(keras.layers.Dense(1, activation=\"sigmoid\"))"
      ]
    },
    {
      "cell_type": "code",
      "execution_count": null,
      "metadata": {
        "id": "JQpaSaSuYx9-"
      },
      "outputs": [],
      "source": [
        "model_A_clone = keras.models.clone_model(model_A)\n",
        "model_A_clone.set_weights(model_A.get_weights())\n",
        "model_B_on_A = keras.models.Sequential(model_A_clone.layers[:-1])\n",
        "model_B_on_A.add(keras.layers.Dense(1, activation=\"sigmoid\"))"
      ]
    },
    {
      "cell_type": "code",
      "execution_count": null,
      "metadata": {
        "id": "LujobpmOYzfc"
      },
      "outputs": [],
      "source": [
        "for layer in model_B_on_A.layers[:-1]:\n",
        "    layer.trainable = False\n",
        "\n",
        "model_B_on_A.compile(loss=\"binary_crossentropy\",\n",
        "                     optimizer=keras.optimizers.SGD(learning_rate=1e-3),\n",
        "                     metrics=[\"accuracy\"])"
      ]
    },
    {
      "cell_type": "code",
      "execution_count": null,
      "metadata": {
        "id": "JJ_dScK1Y2Dq",
        "colab": {
          "base_uri": "https://localhost:8080/"
        },
        "outputId": "3934f05a-f3a4-4d29-fb45-6c988a3af1e7"
      },
      "outputs": [
        {
          "output_type": "stream",
          "name": "stdout",
          "text": [
            "Epoch 1/4\n",
            "7/7 [==============================] - 1s 59ms/step - loss: 0.3996 - accuracy: 0.8400 - val_loss: 0.4004 - val_accuracy: 0.8225\n",
            "Epoch 2/4\n",
            "7/7 [==============================] - 0s 16ms/step - loss: 0.3737 - accuracy: 0.8550 - val_loss: 0.3758 - val_accuracy: 0.8499\n",
            "Epoch 3/4\n",
            "7/7 [==============================] - 0s 18ms/step - loss: 0.3494 - accuracy: 0.8850 - val_loss: 0.3546 - val_accuracy: 0.8712\n",
            "Epoch 4/4\n",
            "7/7 [==============================] - 0s 17ms/step - loss: 0.3285 - accuracy: 0.8950 - val_loss: 0.3364 - val_accuracy: 0.8854\n",
            "Epoch 1/16\n",
            "7/7 [==============================] - 1s 46ms/step - loss: 0.2799 - accuracy: 0.9300 - val_loss: 0.2513 - val_accuracy: 0.9310\n",
            "Epoch 2/16\n",
            "7/7 [==============================] - 0s 33ms/step - loss: 0.2077 - accuracy: 0.9500 - val_loss: 0.2000 - val_accuracy: 0.9544\n",
            "Epoch 3/16\n",
            "7/7 [==============================] - 0s 17ms/step - loss: 0.1635 - accuracy: 0.9700 - val_loss: 0.1688 - val_accuracy: 0.9625\n",
            "Epoch 4/16\n",
            "7/7 [==============================] - 0s 31ms/step - loss: 0.1357 - accuracy: 0.9800 - val_loss: 0.1474 - val_accuracy: 0.9686\n",
            "Epoch 5/16\n",
            "7/7 [==============================] - 0s 20ms/step - loss: 0.1162 - accuracy: 0.9900 - val_loss: 0.1306 - val_accuracy: 0.9767\n",
            "Epoch 6/16\n",
            "7/7 [==============================] - 0s 33ms/step - loss: 0.1011 - accuracy: 0.9900 - val_loss: 0.1190 - val_accuracy: 0.9797\n",
            "Epoch 7/16\n",
            "7/7 [==============================] - 0s 18ms/step - loss: 0.0905 - accuracy: 0.9900 - val_loss: 0.1101 - val_accuracy: 0.9828\n",
            "Epoch 8/16\n",
            "7/7 [==============================] - 0s 31ms/step - loss: 0.0821 - accuracy: 0.9900 - val_loss: 0.1021 - val_accuracy: 0.9838\n",
            "Epoch 9/16\n",
            "7/7 [==============================] - 0s 18ms/step - loss: 0.0747 - accuracy: 0.9900 - val_loss: 0.0949 - val_accuracy: 0.9838\n",
            "Epoch 10/16\n",
            "7/7 [==============================] - 0s 31ms/step - loss: 0.0683 - accuracy: 0.9900 - val_loss: 0.0896 - val_accuracy: 0.9848\n",
            "Epoch 11/16\n",
            "7/7 [==============================] - 0s 31ms/step - loss: 0.0634 - accuracy: 0.9900 - val_loss: 0.0845 - val_accuracy: 0.9858\n",
            "Epoch 12/16\n",
            "7/7 [==============================] - 0s 31ms/step - loss: 0.0588 - accuracy: 0.9950 - val_loss: 0.0806 - val_accuracy: 0.9858\n",
            "Epoch 13/16\n",
            "7/7 [==============================] - 0s 36ms/step - loss: 0.0550 - accuracy: 0.9950 - val_loss: 0.0768 - val_accuracy: 0.9858\n",
            "Epoch 14/16\n",
            "7/7 [==============================] - 0s 27ms/step - loss: 0.0516 - accuracy: 1.0000 - val_loss: 0.0737 - val_accuracy: 0.9868\n",
            "Epoch 15/16\n",
            "7/7 [==============================] - 0s 36ms/step - loss: 0.0483 - accuracy: 1.0000 - val_loss: 0.0709 - val_accuracy: 0.9868\n",
            "Epoch 16/16\n",
            "7/7 [==============================] - 0s 29ms/step - loss: 0.0458 - accuracy: 1.0000 - val_loss: 0.0685 - val_accuracy: 0.9868\n"
          ]
        }
      ],
      "source": [
        "history = model_B_on_A.fit(X_train_B, y_train_B, epochs=4,\n",
        "                           validation_data=(X_valid_B, y_valid_B))\n",
        "\n",
        "for layer in model_B_on_A.layers[:-1]:\n",
        "    layer.trainable = True\n",
        "\n",
        "model_B_on_A.compile(loss=\"binary_crossentropy\",\n",
        "                     optimizer=keras.optimizers.SGD(learning_rate=1e-3),\n",
        "                     metrics=[\"accuracy\"])\n",
        "history = model_B_on_A.fit(X_train_B, y_train_B, epochs=16,\n",
        "                           validation_data=(X_valid_B, y_valid_B))"
      ]
    },
    {
      "cell_type": "code",
      "execution_count": null,
      "metadata": {
        "id": "pGUlIU-bY3Hv",
        "colab": {
          "base_uri": "https://localhost:8080/"
        },
        "outputId": "f1e72529-8eff-4a40-f114-e1f613f390ee"
      },
      "outputs": [
        {
          "output_type": "stream",
          "name": "stdout",
          "text": [
            "63/63 [==============================] - 0s 2ms/step - loss: 0.1420 - accuracy: 0.9895\n"
          ]
        },
        {
          "output_type": "execute_result",
          "data": {
            "text/plain": [
              "[0.1419816017150879, 0.9894999861717224]"
            ]
          },
          "metadata": {},
          "execution_count": 152
        }
      ],
      "source": [
        "model_B.evaluate(X_test_B, y_test_B)"
      ]
    },
    {
      "cell_type": "code",
      "execution_count": null,
      "metadata": {
        "id": "5j7ptPffY4W6",
        "colab": {
          "base_uri": "https://localhost:8080/"
        },
        "outputId": "a5a0569a-de65-4e13-fe79-de782a8fc940"
      },
      "outputs": [
        {
          "output_type": "stream",
          "name": "stdout",
          "text": [
            "63/63 [==============================] - 0s 2ms/step - loss: 0.0694 - accuracy: 0.9820\n"
          ]
        },
        {
          "output_type": "execute_result",
          "data": {
            "text/plain": [
              "[0.06939390301704407, 0.9819999933242798]"
            ]
          },
          "metadata": {},
          "execution_count": 153
        }
      ],
      "source": [
        "model_B_on_A.evaluate(X_test_B, y_test_B)"
      ]
    },
    {
      "cell_type": "code",
      "execution_count": null,
      "metadata": {
        "id": "qQY8jY2wY5Pb",
        "colab": {
          "base_uri": "https://localhost:8080/"
        },
        "outputId": "a7170ebf-1bfc-4e9c-e225-8aca5858a7b6"
      },
      "outputs": [
        {
          "output_type": "execute_result",
          "data": {
            "text/plain": [
              "3.933333333333337"
            ]
          },
          "metadata": {},
          "execution_count": 154
        }
      ],
      "source": [
        "\n",
        "(100 - 97.05) / (100 - 99.25)"
      ]
    },
    {
      "cell_type": "markdown",
      "metadata": {
        "id": "gmDg4bVSiqnK"
      },
      "source": [
        "model_A 로드 및 재활용:\n",
        "이전에 저장된 모델인 my_model_A.h5를 로드합니다.\n",
        "model_A의 마지막 층을 제외한 모든 층을 가져와서 새로운 모델 model_B_on_A에 추가합니다.\n",
        "model_B_on_A에 이진 분류를 위한 출력층을 추가합니다.\n",
        "model_A 클론 및 파라미터 공유:\n",
        "clone_model 함수를 사용하여 model_A의 정확한 복제본을 만듭니다.\n",
        "복제본에 model_A의 가중치를 설정합니다.\n",
        "model_B_on_A에 공유된 층을 추가합니다. 이 층들은 학습되지 않습니다.\n",
        "미세 조정:\n",
        "공유된 층을 제외한 모든 층을 학습 가능하게 설정합니다.\n",
        "모델을 다시 컴파일하고 훈련 데이터로 훈련을 진행합니다.\n",
        "이 과정을 통해 층의 학습이 진행되며, 전이 학습을 통해 초기에는 빠르게 수렴하고, 이후에는 세밀한 튜닝이 이루어집니다.\n",
        "모델 평가:\n",
        "model_B와 model_B_on_A의 성능을 테스트 데이터로 평가합니다.\n",
        "두 모델의 성능을 비교하고 성능 향상 정도를 계산합니다.\n",
        "이 과정을 통해 다중 출력 모델의 일부를 재활용하여 이진 분류 모델을 구축하고 향상시키는 방법을 보여줍니다."
      ]
    },
    {
      "cell_type": "markdown",
      "metadata": {
        "id": "SCfetwZhY7i2"
      },
      "source": [
        "Faster Optimizers"
      ]
    },
    {
      "cell_type": "code",
      "execution_count": null,
      "metadata": {
        "id": "M5YkbpUXY8ml"
      },
      "outputs": [],
      "source": [
        "optimizer = keras.optimizers.SGD(learning_rate=0.001, momentum=0.9)"
      ]
    },
    {
      "cell_type": "code",
      "execution_count": null,
      "metadata": {
        "id": "xcJK9sGIZO6c",
        "colab": {
          "base_uri": "https://localhost:8080/"
        },
        "outputId": "4de04535-c989-4825-a0aa-163b4180101c"
      },
      "outputs": [
        {
          "output_type": "stream",
          "name": "stdout",
          "text": [
            "Epoch 1/10\n",
            "1719/1719 [==============================] - 10s 6ms/step - loss: 0.4235 - accuracy: 0.8537 - val_loss: 0.3800 - val_accuracy: 0.8714\n",
            "Epoch 2/10\n",
            "1719/1719 [==============================] - 11s 6ms/step - loss: 0.4130 - accuracy: 0.8566 - val_loss: 0.3734 - val_accuracy: 0.8716\n",
            "Epoch 3/10\n",
            "1719/1719 [==============================] - 11s 7ms/step - loss: 0.4085 - accuracy: 0.8585 - val_loss: 0.3702 - val_accuracy: 0.8740\n",
            "Epoch 4/10\n",
            "1719/1719 [==============================] - 11s 7ms/step - loss: 0.3974 - accuracy: 0.8630 - val_loss: 0.3647 - val_accuracy: 0.8772\n",
            "Epoch 5/10\n",
            "1719/1719 [==============================] - 10s 6ms/step - loss: 0.3895 - accuracy: 0.8642 - val_loss: 0.3614 - val_accuracy: 0.8766\n",
            "Epoch 6/10\n",
            "1719/1719 [==============================] - 12s 7ms/step - loss: 0.3849 - accuracy: 0.8655 - val_loss: 0.3578 - val_accuracy: 0.8756\n",
            "Epoch 7/10\n",
            "1719/1719 [==============================] - 12s 7ms/step - loss: 0.3790 - accuracy: 0.8686 - val_loss: 0.3533 - val_accuracy: 0.8792\n",
            "Epoch 8/10\n",
            "1719/1719 [==============================] - 12s 7ms/step - loss: 0.3743 - accuracy: 0.8693 - val_loss: 0.3526 - val_accuracy: 0.8790\n",
            "Epoch 9/10\n",
            "1719/1719 [==============================] - 10s 6ms/step - loss: 0.3684 - accuracy: 0.8707 - val_loss: 0.3495 - val_accuracy: 0.8788\n",
            "Epoch 10/10\n",
            "1719/1719 [==============================] - 12s 7ms/step - loss: 0.3615 - accuracy: 0.8741 - val_loss: 0.3476 - val_accuracy: 0.8784\n"
          ]
        }
      ],
      "source": [
        "history = model.fit(X_train, y_train, epochs=10, validation_data=(X_valid, y_valid))"
      ]
    },
    {
      "cell_type": "code",
      "execution_count": null,
      "metadata": {
        "id": "_xX7_iddZZmL",
        "colab": {
          "base_uri": "https://localhost:8080/"
        },
        "outputId": "4366e858-bee8-4245-e2b8-28505ac0bada"
      },
      "outputs": [
        {
          "output_type": "stream",
          "name": "stdout",
          "text": [
            "Epoch 1/10\n",
            "1719/1719 [==============================] - 12s 7ms/step - loss: 0.3601 - accuracy: 0.8743 - val_loss: 0.3456 - val_accuracy: 0.8812\n",
            "Epoch 2/10\n",
            "1719/1719 [==============================] - 11s 6ms/step - loss: 0.3547 - accuracy: 0.8755 - val_loss: 0.3423 - val_accuracy: 0.8822\n",
            "Epoch 3/10\n",
            "1719/1719 [==============================] - 10s 6ms/step - loss: 0.3534 - accuracy: 0.8771 - val_loss: 0.3421 - val_accuracy: 0.8822\n",
            "Epoch 4/10\n",
            "1719/1719 [==============================] - 12s 7ms/step - loss: 0.3456 - accuracy: 0.8799 - val_loss: 0.3393 - val_accuracy: 0.8836\n",
            "Epoch 5/10\n",
            "1719/1719 [==============================] - 11s 7ms/step - loss: 0.3410 - accuracy: 0.8809 - val_loss: 0.3385 - val_accuracy: 0.8840\n",
            "Epoch 6/10\n",
            "1719/1719 [==============================] - 10s 6ms/step - loss: 0.3381 - accuracy: 0.8810 - val_loss: 0.3359 - val_accuracy: 0.8846\n",
            "Epoch 7/10\n",
            "1719/1719 [==============================] - 11s 6ms/step - loss: 0.3346 - accuracy: 0.8826 - val_loss: 0.3331 - val_accuracy: 0.8846\n",
            "Epoch 8/10\n",
            "1719/1719 [==============================] - 12s 7ms/step - loss: 0.3318 - accuracy: 0.8832 - val_loss: 0.3345 - val_accuracy: 0.8834\n",
            "Epoch 9/10\n",
            "1719/1719 [==============================] - 11s 7ms/step - loss: 0.3269 - accuracy: 0.8836 - val_loss: 0.3324 - val_accuracy: 0.8844\n",
            "Epoch 10/10\n",
            "1719/1719 [==============================] - 9s 5ms/step - loss: 0.3226 - accuracy: 0.8867 - val_loss: 0.3314 - val_accuracy: 0.8836\n"
          ]
        }
      ],
      "source": [
        "optimizer = keras.optimizers.SGD(learning_rate=0.001, momentum=0.9, nesterov=True)\n",
        "history = model.fit(X_train, y_train, epochs=10, validation_data=(X_valid, y_valid))"
      ]
    },
    {
      "cell_type": "code",
      "execution_count": null,
      "metadata": {
        "id": "EiyFAXGCZctY",
        "colab": {
          "base_uri": "https://localhost:8080/"
        },
        "outputId": "c4bdb87a-4feb-4367-fad8-e244fd062652"
      },
      "outputs": [
        {
          "output_type": "stream",
          "name": "stdout",
          "text": [
            "Epoch 1/10\n",
            "1719/1719 [==============================] - 11s 7ms/step - loss: 0.3218 - accuracy: 0.8871 - val_loss: 0.3303 - val_accuracy: 0.8830\n",
            "Epoch 2/10\n",
            "1719/1719 [==============================] - 10s 6ms/step - loss: 0.3185 - accuracy: 0.8870 - val_loss: 0.3282 - val_accuracy: 0.8864\n",
            "Epoch 3/10\n",
            "1719/1719 [==============================] - 11s 7ms/step - loss: 0.3175 - accuracy: 0.8902 - val_loss: 0.3290 - val_accuracy: 0.8850\n",
            "Epoch 4/10\n",
            "1719/1719 [==============================] - 11s 7ms/step - loss: 0.3111 - accuracy: 0.8915 - val_loss: 0.3271 - val_accuracy: 0.8880\n",
            "Epoch 5/10\n",
            "1719/1719 [==============================] - 11s 6ms/step - loss: 0.3078 - accuracy: 0.8922 - val_loss: 0.3268 - val_accuracy: 0.8862\n",
            "Epoch 6/10\n",
            "1719/1719 [==============================] - 10s 6ms/step - loss: 0.3054 - accuracy: 0.8917 - val_loss: 0.3247 - val_accuracy: 0.8854\n",
            "Epoch 7/10\n",
            "1719/1719 [==============================] - 11s 7ms/step - loss: 0.3030 - accuracy: 0.8930 - val_loss: 0.3222 - val_accuracy: 0.8864\n",
            "Epoch 8/10\n",
            "1719/1719 [==============================] - 11s 7ms/step - loss: 0.3010 - accuracy: 0.8933 - val_loss: 0.3247 - val_accuracy: 0.8884\n",
            "Epoch 9/10\n",
            "1719/1719 [==============================] - 10s 6ms/step - loss: 0.2963 - accuracy: 0.8948 - val_loss: 0.3234 - val_accuracy: 0.8850\n",
            "Epoch 10/10\n",
            "1719/1719 [==============================] - 11s 6ms/step - loss: 0.2932 - accuracy: 0.8965 - val_loss: 0.3224 - val_accuracy: 0.8864\n"
          ]
        }
      ],
      "source": [
        "optimizer = keras.optimizers.Adagrad(learning_rate=0.001)\n",
        "history = model.fit(X_train, y_train, epochs=10, validation_data=(X_valid, y_valid))"
      ]
    },
    {
      "cell_type": "code",
      "execution_count": null,
      "metadata": {
        "id": "ekYTz4bWZjEq"
      },
      "outputs": [],
      "source": [
        "optimizer = keras.optimizers.RMSprop(learning_rate=0.001, rho=0.9)"
      ]
    },
    {
      "cell_type": "code",
      "execution_count": null,
      "metadata": {
        "id": "-apVhF7rZlhO"
      },
      "outputs": [],
      "source": [
        "optimizer = keras.optimizers.Adam(learning_rate=0.001, beta_1=0.9, beta_2=0.999)"
      ]
    },
    {
      "cell_type": "code",
      "execution_count": null,
      "metadata": {
        "id": "C_SJZX0PZm5I"
      },
      "outputs": [],
      "source": [
        "optimizer = keras.optimizers.Adamax(learning_rate=0.001, beta_1=0.9, beta_2=0.999)"
      ]
    },
    {
      "cell_type": "code",
      "execution_count": null,
      "metadata": {
        "id": "uJgCJOFmZoHP"
      },
      "outputs": [],
      "source": [
        "optimizer = keras.optimizers.Nadam(learning_rate=0.001, beta_1=0.9, beta_2=0.999)"
      ]
    },
    {
      "cell_type": "markdown",
      "metadata": {
        "id": "0advHwvXi2O3"
      },
      "source": [
        "SGD (Stochastic Gradient Descent):\n",
        "가장 기본적인 경사 하강법 알고리즘입니다.\n",
        "momentum 매개변수를 사용하여 관성을 추가할 수 있습니다.\n",
        "nesterov 매개변수를 사용하여 네스테로프 가속 경사(NAG)를 적용할 수 있습니다.\n",
        "Adagrad:\n",
        "학습률을 각각의 매개변수에 대해 조절하는 방식으로 학습률을 조절합니다.\n",
        "이전 기울기 값들을 제곱하여 더해가면서 학습률을 갱신합니다.\n",
        "자주 업데이트 되는 매개변수들은 점점 작아지는 학습률을 가지게 됩니다.\n",
        "RMSprop (Root Mean Square Propagation):\n",
        "Adagrad의 단점을 보완한 알고리즘으로, 지수 이동 평균을 사용하여 학습률을 조절합니다.\n",
        "과거 기울기의 제곱에 대한 지수 가중 평균을 사용하여 학습률을 갱신합니다.\n",
        "최신 기울기 정보를 더 많이 반영하기 때문에 Adagrad보다 더 좋은 성능을 보입니다.\n",
        "Adam (Adaptive Moment Estimation):\n",
        "모멘텀과 RMSprop을 결합한 방식으로, 지수 이동 평균을 사용하여 학습률과 모멘텀을 조절합니다.\n",
        "모멘텀과 RMSprop의 장점을 모두 가지고 있어 다양한 문제에 적용하기 좋습니다.\n",
        "Adamax:\n",
        "Adam의 변형 알고리즘으로, 무한 노름(norm)에 대한 학습률을 사용하여 가중치를 갱신합니다.\n",
        "Nadam (Nesterov-accelerated Adaptive Moment Estimation):\n",
        "네스테로프 가속 경사(NAG)와 Adam을 결합한 방식으로, 모멘텀과 지수 이동 평균을 사용하여 학습률과 모멘텀을 조절합니다.\n",
        "Adam의 장점을 가지면서도 네스테로프 가속 경사의 특징을 가지고 있습니다."
      ]
    },
    {
      "cell_type": "markdown",
      "metadata": {
        "id": "UywxzsYoZqhs"
      },
      "source": [
        "Learning Rate Scheduling"
      ]
    },
    {
      "cell_type": "code",
      "execution_count": null,
      "metadata": {
        "id": "gr3qL-kZZq7J"
      },
      "outputs": [],
      "source": [
        "optimizer = keras.optimizers.SGD(learning_rate=0.01)"
      ]
    },
    {
      "cell_type": "code",
      "execution_count": null,
      "metadata": {
        "id": "1Bo17wKHZtWt"
      },
      "outputs": [],
      "source": [
        "model = keras.models.Sequential([\n",
        "    keras.layers.Flatten(input_shape=[28, 28]),\n",
        "    keras.layers.Dense(300, activation=\"selu\", kernel_initializer=\"lecun_normal\"),\n",
        "    keras.layers.Dense(100, activation=\"selu\", kernel_initializer=\"lecun_normal\"),\n",
        "    keras.layers.Dense(10, activation=\"softmax\")\n",
        "])\n",
        "model.compile(loss=\"sparse_categorical_crossentropy\", optimizer=optimizer, metrics=[\"accuracy\"])"
      ]
    },
    {
      "cell_type": "code",
      "execution_count": null,
      "metadata": {
        "id": "gVfRNBmMZu1E",
        "colab": {
          "base_uri": "https://localhost:8080/"
        },
        "outputId": "e5580f33-5b58-4381-83f3-6e1dbd849c7b"
      },
      "outputs": [
        {
          "output_type": "stream",
          "name": "stdout",
          "text": [
            "Epoch 1/25\n",
            "1719/1719 [==============================] - 8s 4ms/step - loss: 0.4872 - accuracy: 0.8287 - val_loss: 0.4050 - val_accuracy: 0.8586\n",
            "Epoch 2/25\n",
            "1719/1719 [==============================] - 9s 5ms/step - loss: 0.3783 - accuracy: 0.8659 - val_loss: 0.3690 - val_accuracy: 0.8698\n",
            "Epoch 3/25\n",
            "1719/1719 [==============================] - 8s 5ms/step - loss: 0.3445 - accuracy: 0.8765 - val_loss: 0.3791 - val_accuracy: 0.8670\n",
            "Epoch 4/25\n",
            "1719/1719 [==============================] - 8s 4ms/step - loss: 0.3223 - accuracy: 0.8841 - val_loss: 0.3484 - val_accuracy: 0.8784\n",
            "Epoch 5/25\n",
            "1719/1719 [==============================] - 8s 5ms/step - loss: 0.3053 - accuracy: 0.8907 - val_loss: 0.3408 - val_accuracy: 0.8804\n",
            "Epoch 6/25\n",
            "1719/1719 [==============================] - 7s 4ms/step - loss: 0.2884 - accuracy: 0.8961 - val_loss: 0.3437 - val_accuracy: 0.8808\n",
            "Epoch 7/25\n",
            "1719/1719 [==============================] - 8s 4ms/step - loss: 0.2760 - accuracy: 0.9003 - val_loss: 0.3424 - val_accuracy: 0.8836\n",
            "Epoch 8/25\n",
            "1719/1719 [==============================] - 7s 4ms/step - loss: 0.2643 - accuracy: 0.9055 - val_loss: 0.3558 - val_accuracy: 0.8740\n",
            "Epoch 9/25\n",
            "1719/1719 [==============================] - 8s 5ms/step - loss: 0.2531 - accuracy: 0.9091 - val_loss: 0.3301 - val_accuracy: 0.8828\n",
            "Epoch 10/25\n",
            "1719/1719 [==============================] - 7s 4ms/step - loss: 0.2431 - accuracy: 0.9116 - val_loss: 0.3286 - val_accuracy: 0.8862\n",
            "Epoch 11/25\n",
            "1719/1719 [==============================] - 9s 5ms/step - loss: 0.2343 - accuracy: 0.9145 - val_loss: 0.3285 - val_accuracy: 0.8866\n",
            "Epoch 12/25\n",
            "1719/1719 [==============================] - 7s 4ms/step - loss: 0.2249 - accuracy: 0.9197 - val_loss: 0.3459 - val_accuracy: 0.8812\n",
            "Epoch 13/25\n",
            "1719/1719 [==============================] - 9s 5ms/step - loss: 0.2164 - accuracy: 0.9219 - val_loss: 0.3383 - val_accuracy: 0.8860\n",
            "Epoch 14/25\n",
            "1719/1719 [==============================] - 7s 4ms/step - loss: 0.2100 - accuracy: 0.9243 - val_loss: 0.3452 - val_accuracy: 0.8838\n",
            "Epoch 15/25\n",
            "1719/1719 [==============================] - 9s 5ms/step - loss: 0.2006 - accuracy: 0.9277 - val_loss: 0.3356 - val_accuracy: 0.8852\n",
            "Epoch 16/25\n",
            "1719/1719 [==============================] - 7s 4ms/step - loss: 0.1955 - accuracy: 0.9296 - val_loss: 0.3298 - val_accuracy: 0.8850\n",
            "Epoch 17/25\n",
            "1719/1719 [==============================] - 9s 5ms/step - loss: 0.1881 - accuracy: 0.9327 - val_loss: 0.3500 - val_accuracy: 0.8858\n",
            "Epoch 18/25\n",
            "1719/1719 [==============================] - 7s 4ms/step - loss: 0.1807 - accuracy: 0.9364 - val_loss: 0.3389 - val_accuracy: 0.8888\n",
            "Epoch 19/25\n",
            "1719/1719 [==============================] - 9s 5ms/step - loss: 0.1745 - accuracy: 0.9379 - val_loss: 0.3436 - val_accuracy: 0.8868\n",
            "Epoch 20/25\n",
            "1719/1719 [==============================] - 6s 4ms/step - loss: 0.1683 - accuracy: 0.9402 - val_loss: 0.3470 - val_accuracy: 0.8822\n",
            "Epoch 21/25\n",
            "1719/1719 [==============================] - 9s 5ms/step - loss: 0.1625 - accuracy: 0.9424 - val_loss: 0.3380 - val_accuracy: 0.8860\n",
            "Epoch 22/25\n",
            "1719/1719 [==============================] - 6s 4ms/step - loss: 0.1567 - accuracy: 0.9444 - val_loss: 0.3425 - val_accuracy: 0.8914\n",
            "Epoch 23/25\n",
            "1719/1719 [==============================] - 9s 5ms/step - loss: 0.1512 - accuracy: 0.9465 - val_loss: 0.3506 - val_accuracy: 0.8874\n",
            "Epoch 24/25\n",
            "1719/1719 [==============================] - 6s 4ms/step - loss: 0.1454 - accuracy: 0.9495 - val_loss: 0.3601 - val_accuracy: 0.8906\n",
            "Epoch 25/25\n",
            "1719/1719 [==============================] - 8s 5ms/step - loss: 0.1406 - accuracy: 0.9504 - val_loss: 0.3536 - val_accuracy: 0.8888\n"
          ]
        }
      ],
      "source": [
        "n_epochs = 25\n",
        "history = model.fit(X_train_scaled, y_train, epochs=n_epochs,\n",
        "                    validation_data=(X_valid_scaled, y_valid))"
      ]
    },
    {
      "cell_type": "code",
      "execution_count": null,
      "metadata": {
        "id": "wSI3luiZZzx0",
        "colab": {
          "base_uri": "https://localhost:8080/"
        },
        "outputId": "c0a6e86a-aa9e-4891-da39-e5e82b2cacce"
      },
      "outputs": [
        {
          "output_type": "stream",
          "name": "stdout",
          "text": [
            "Epoch 1/2\n",
            "1719/1719 [==============================] - 13s 7ms/step - loss: 0.4742 - accuracy: 0.8345 - val_loss: 0.3573 - val_accuracy: 0.8712\n",
            "Epoch 2/2\n",
            "1719/1719 [==============================] - 11s 7ms/step - loss: 0.3453 - accuracy: 0.8746 - val_loss: 0.3674 - val_accuracy: 0.8730\n"
          ]
        }
      ],
      "source": [
        "model = keras.models.Sequential([\n",
        "    keras.layers.Flatten(input_shape=[28, 28]),\n",
        "    keras.layers.Dense(300, activation=\"selu\", kernel_initializer=\"lecun_normal\"),\n",
        "    keras.layers.Dense(100, activation=\"selu\", kernel_initializer=\"lecun_normal\"),\n",
        "    keras.layers.Dense(10, activation=\"softmax\")\n",
        "])\n",
        "model.compile(loss=\"sparse_categorical_crossentropy\", optimizer=\"nadam\", metrics=[\"accuracy\"])\n",
        "n_epochs = 2\n",
        "history = model.fit(X_train_scaled, y_train, epochs=n_epochs,\n",
        "                    validation_data=(X_valid_scaled, y_valid))"
      ]
    },
    {
      "cell_type": "markdown",
      "metadata": {
        "id": "Bw48FdHwjA2x"
      },
      "source": [
        "첫 번째 모델은 SGD 옵티마이저를 사용하여 훈련됩니다.\n",
        "keras.optimizers.SGD를 사용하여 SGD 옵티마이저를 생성합니다.\n",
        "모델은 렐루 활성화 함수를 사용하는 은닉층과 소프트맥스 활성화 함수를 사용하는 출력층으로 구성됩니다.\n",
        "이 모델은 \"sparse_categorical_crossentropy\" 손실 함수를 사용하여 훈련됩니다.\n",
        "두 번째 모델은 Nadam 옵티마이저를 사용하여 훈련됩니다.\n",
        "keras.optimizers.Nadam를 사용하여 Nadam 옵티마이저를 생성합니다.\n",
        "나머지 구성은 첫 번째 모델과 동일합니다.\n",
        "각 모델은 훈련 데이터에 대해 지정된 에포크 동안 훈련되고 검증 데이터를 사용하여 검증됩니다. 처음 모델은 25번의 에포크로, 두 번째 모델은 2번의 에포크로 훈련됩니다.\n",
        "\n",
        "이렇게 하면 두 가지 다른 옵티마이저를 사용하여 모델을 훈련하여 성능을 비교할 수 있습니다."
      ]
    }
  ]
}